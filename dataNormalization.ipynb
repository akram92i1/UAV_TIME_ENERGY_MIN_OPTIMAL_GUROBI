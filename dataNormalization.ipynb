{
 "cells": [
  {
   "cell_type": "code",
   "execution_count": 1,
   "metadata": {},
   "outputs": [
    {
     "name": "stdout",
     "output_type": "stream",
     "text": [
      "Normalization done !\n"
     ]
    }
   ],
   "source": [
    "import pandas as pd \n",
    "def toExcel(data):\n",
    "    finaleNormlizedData = []\n",
    "    for row in data :\n",
    "        t = [row[0][0],row[0][1]]\n",
    "        for elem in row:\n",
    "            t.append(elem[2])\n",
    "        finaleNormlizedData.append(t)\n",
    "    return finaleNormlizedData\n",
    "\n",
    "def computeMinMax(data , colums , index ):\n",
    "    l = {\"TIME_TRAVEL_CONSUMPTION\":0, \"HOVERING_TIME\":0, 'ENERGY_HOVER':0 , \"TRAVEL_ENERGY_COST\":0} \n",
    "    for ind in data.index:\n",
    "        if data['Sensor_ID'][ind] == data['Sensor_ID'][index]:\n",
    "            if data[colums][ind] >= l[colums]:\n",
    "                l[colums] = data[colums][ind]\n",
    "            else:\n",
    "                pass \n",
    "        \n",
    "    return l \n",
    "\n",
    "def computeNormlizedValue(data , value , colums , index ):\n",
    "    sumRatio = 0 \n",
    "    maximum = computeMinMax(data , colums , index )\n",
    "    for ind in data.index:\n",
    "        if data['Sensor_ID'][ind] == data['Sensor_ID'][index]:\n",
    "            sumRatio = sumRatio + data[colums][ind]\n",
    "        else:\n",
    "            pass \n",
    "    normliZedValue = value/maximum[colums]\n",
    "    #print(\"The normlized value \",round(totalSum,3))\n",
    "    t  = (data['Sensor_ID'][index],data['Cluster_DESTINATION'][index],normliZedValue)\n",
    "    #print(data['Sensor_ID'][index] , '-' ,data['Cluster_DESTINATION'][index] , '-'  , colums , ':',round(totalSum,3))\n",
    "    return  t \n",
    "t = pd.read_excel(open('Data/Environement/K=6/sheet_numberOfSensor.xls','rb'))\n",
    "tabOfColums = [ \"TIME_TRAVEL_CONSUMPTION\", \"HOVERING_TIME\" , 'ENERGY_HOVER' , \"TRAVEL_ENERGY_COST\"]\n",
    "\n",
    "row = []\n",
    "\n",
    "for ind in t.index :\n",
    "    normilzedData = []\n",
    "    #print(t['Sensor_ID'][ind],\"---\" ,t['TRAVEL_ENERGY_COST'][ind] ,'----' , t['TIME_TRAVEL_CONSUMPTION'][ind] ,t['HOVERING_TIME'] )\n",
    "    for col in tabOfColums:\n",
    "        # Compute the normilzed value\n",
    "        # ind : it's a row number in the excel format \n",
    "        l = computeNormlizedValue(t , t[col][ind], col , ind)\n",
    "        normilzedData.append(l)\n",
    "    row.append(normilzedData)\n",
    "final_Data = toExcel(row)\n",
    "df = pd.DataFrame(final_Data , columns=['Cluster_ID', 'Cluster_DESTINATION' , 'TIME_TRAVEL_CONSUMPTION' , 'HOVERING_TIME' , 'ENERGY_HOVER' , 'TRAVEL_ENERGY_COST'])\n",
    "    #Concate each value\n",
    "df.to_excel('NormlizedData.xls')\n",
    "print(\"Normalization done !\")"
   ]
  },
  {
   "cell_type": "code",
   "execution_count": null,
   "metadata": {},
   "outputs": [],
   "source": []
  },
  {
   "cell_type": "code",
   "execution_count": null,
   "metadata": {},
   "outputs": [],
   "source": []
  }
 ],
 "metadata": {
  "kernelspec": {
   "display_name": "Python 3",
   "language": "python",
   "name": "python3"
  },
  "language_info": {
   "codemirror_mode": {
    "name": "ipython",
    "version": 3
   },
   "file_extension": ".py",
   "mimetype": "text/x-python",
   "name": "python",
   "nbconvert_exporter": "python",
   "pygments_lexer": "ipython3",
   "version": "3.8.5"
  }
 },
 "nbformat": 4,
 "nbformat_minor": 4
}
