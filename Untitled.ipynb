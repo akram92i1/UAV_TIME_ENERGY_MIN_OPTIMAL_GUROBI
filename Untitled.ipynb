{
 "cells": [
  {
   "cell_type": "code",
   "execution_count": 4,
   "metadata": {},
   "outputs": [],
   "source": [
    "import gurobipy as gp\n",
    "from gurobipy import GRB\n",
    "#Resource and jobs sets\n",
    "R = ['Carlos' , 'Joe' , 'Monika']\n",
    "J = ['Tester' , 'JavaDeveloper' , 'Architect' ]"
   ]
  },
  {
   "cell_type": "code",
   "execution_count": 22,
   "metadata": {},
   "outputs": [
    {
     "data": {
      "text/plain": [
       "{('Carlos', 'Tester'): 53,\n",
       " ('Carlos', 'JavaDeveloper'): 27,\n",
       " ('Carlos', 'Architect'): 13,\n",
       " ('Joe', 'Tester'): 80,\n",
       " ('Joe', 'JavaDeveloper'): 47,\n",
       " ('Joe', 'Architect'): 67,\n",
       " ('Monika', 'Tester'): 53,\n",
       " ('Monika', 'JavaDeveloper'): 73,\n",
       " ('Monika', 'Architect'): 47}"
      ]
     },
     "execution_count": 22,
     "metadata": {},
     "output_type": "execute_result"
    }
   ],
   "source": [
    "# Matching score data\n",
    "combinations, scores = gp.multidict({\n",
    "    ('Carlos', 'Tester'): 53,\n",
    "    ('Carlos', 'JavaDeveloper'): 27,\n",
    "    ('Carlos', 'Architect'): 13,\n",
    "    ('Joe', 'Tester'): 80,\n",
    "    ('Joe', 'JavaDeveloper'): 47,\n",
    "    ('Joe', 'Architect'): 67,\n",
    "    ('Monika', 'Tester'): 53,\n",
    "    ('Monika', 'JavaDeveloper'): 73,\n",
    "    ('Monika', 'Architect'): 47\n",
    "})\n",
    "scores"
   ]
  },
  {
   "cell_type": "code",
   "execution_count": 6,
   "metadata": {},
   "outputs": [
    {
     "name": "stdout",
     "output_type": "stream",
     "text": [
      "Restricted license - for non-production use only - expires 2023-10-25\n"
     ]
    }
   ],
   "source": [
    "# Declare and initialize model\n",
    "m = gp.Model('RAP')"
   ]
  },
  {
   "cell_type": "code",
   "execution_count": 7,
   "metadata": {},
   "outputs": [],
   "source": [
    "# Create decision variables for the RAP model\n",
    "x = m.addVars(combinations, name='assign')"
   ]
  },
  {
   "cell_type": "code",
   "execution_count": 15,
   "metadata": {},
   "outputs": [
    {
     "data": {
      "text/plain": [
       "{('Carlos', 'Tester'): <gurobi.Var assign[Carlos,Tester]>,\n",
       " ('Carlos', 'JavaDeveloper'): <gurobi.Var assign[Carlos,JavaDeveloper]>,\n",
       " ('Carlos', 'Architect'): <gurobi.Var assign[Carlos,Architect]>,\n",
       " ('Joe', 'Tester'): <gurobi.Var assign[Joe,Tester]>,\n",
       " ('Joe', 'JavaDeveloper'): <gurobi.Var assign[Joe,JavaDeveloper]>,\n",
       " ('Joe', 'Architect'): <gurobi.Var assign[Joe,Architect]>,\n",
       " ('Monika', 'Tester'): <gurobi.Var assign[Monika,Tester]>,\n",
       " ('Monika', 'JavaDeveloper'): <gurobi.Var assign[Monika,JavaDeveloper]>,\n",
       " ('Monika', 'Architect'): <gurobi.Var assign[Monika,Architect]>}"
      ]
     },
     "execution_count": 15,
     "metadata": {},
     "output_type": "execute_result"
    }
   ],
   "source": [
    "x"
   ]
  },
  {
   "cell_type": "code",
   "execution_count": 16,
   "metadata": {},
   "outputs": [],
   "source": [
    "# Create job constraints\n",
    "jobs = m.addConstrs((x.sum('*',j)==1 for j in J ),name='job')"
   ]
  },
  {
   "cell_type": "code",
   "execution_count": 17,
   "metadata": {},
   "outputs": [],
   "source": [
    "# Create ressource constraint \n",
    "ressource = m.addConstrs((x.sum(r,'*') <= 1 for r in R), name='ressource')"
   ]
  },
  {
   "cell_type": "code",
   "execution_count": 18,
   "metadata": {},
   "outputs": [],
   "source": [
    "# Objective: maximize total matching score of all assignments\n",
    "m.setObjective(x.prod(scores), GRB.MAXIMIZE)"
   ]
  },
  {
   "cell_type": "code",
   "execution_count": 19,
   "metadata": {},
   "outputs": [
    {
     "name": "stdout",
     "output_type": "stream",
     "text": [
      "Warning: linear constraint 0 and linear constraint 6 have the same name \"job[Tester]\"\n"
     ]
    }
   ],
   "source": [
    "# Save model for inspection\n",
    "m.write('RAP.lp')"
   ]
  },
  {
   "cell_type": "code",
   "execution_count": 20,
   "metadata": {},
   "outputs": [
    {
     "ename": "AttributeError",
     "evalue": "Unable to retrieve attribute 'x'",
     "output_type": "error",
     "traceback": [
      "\u001b[1;31m---------------------------------------------------------------------------\u001b[0m",
      "\u001b[1;31mAttributeError\u001b[0m                            Traceback (most recent call last)",
      "\u001b[1;32m<ipython-input-20-fd0f4c9a32e2>\u001b[0m in \u001b[0;36m<module>\u001b[1;34m\u001b[0m\n\u001b[0;32m      1\u001b[0m \u001b[1;31m# Display optimal values of decision variables\u001b[0m\u001b[1;33m\u001b[0m\u001b[1;33m\u001b[0m\u001b[1;33m\u001b[0m\u001b[0m\n\u001b[0;32m      2\u001b[0m \u001b[1;32mfor\u001b[0m \u001b[0mv\u001b[0m \u001b[1;32min\u001b[0m \u001b[0mm\u001b[0m\u001b[1;33m.\u001b[0m\u001b[0mgetVars\u001b[0m\u001b[1;33m(\u001b[0m\u001b[1;33m)\u001b[0m\u001b[1;33m:\u001b[0m\u001b[1;33m\u001b[0m\u001b[1;33m\u001b[0m\u001b[0m\n\u001b[1;32m----> 3\u001b[1;33m     \u001b[1;32mif\u001b[0m \u001b[0mv\u001b[0m\u001b[1;33m.\u001b[0m\u001b[0mx\u001b[0m \u001b[1;33m>\u001b[0m \u001b[1;36m1e-6\u001b[0m\u001b[1;33m:\u001b[0m\u001b[1;33m\u001b[0m\u001b[1;33m\u001b[0m\u001b[0m\n\u001b[0m\u001b[0;32m      4\u001b[0m         \u001b[0mprint\u001b[0m\u001b[1;33m(\u001b[0m\u001b[0mv\u001b[0m\u001b[1;33m.\u001b[0m\u001b[0mvarName\u001b[0m\u001b[1;33m,\u001b[0m \u001b[0mv\u001b[0m\u001b[1;33m.\u001b[0m\u001b[0mx\u001b[0m\u001b[1;33m)\u001b[0m\u001b[1;33m\u001b[0m\u001b[1;33m\u001b[0m\u001b[0m\n\u001b[0;32m      5\u001b[0m \u001b[1;33m\u001b[0m\u001b[0m\n",
      "\u001b[1;32msrc\\gurobipy\\var.pxi\u001b[0m in \u001b[0;36mgurobipy.Var.__getattr__\u001b[1;34m()\u001b[0m\n",
      "\u001b[1;32msrc\\gurobipy\\var.pxi\u001b[0m in \u001b[0;36mgurobipy.Var.getAttr\u001b[1;34m()\u001b[0m\n",
      "\u001b[1;32msrc\\gurobipy\\attrutil.pxi\u001b[0m in \u001b[0;36mgurobipy.__getattr\u001b[1;34m()\u001b[0m\n",
      "\u001b[1;31mAttributeError\u001b[0m: Unable to retrieve attribute 'x'"
     ]
    }
   ],
   "source": [
    "# Display optimal values of decision variables\n",
    "for v in m.getVars():\n",
    "    if v.x > 1e-6:\n",
    "        print(v.varName, v.x)\n",
    "\n",
    "# Display optimal total matching score\n",
    "print('Total matching score: ', m.objVal)"
   ]
  },
  {
   "cell_type": "code",
   "execution_count": null,
   "metadata": {},
   "outputs": [],
   "source": []
  }
 ],
 "metadata": {
  "kernelspec": {
   "display_name": "Python 3",
   "language": "python",
   "name": "python3"
  },
  "language_info": {
   "codemirror_mode": {
    "name": "ipython",
    "version": 3
   },
   "file_extension": ".py",
   "mimetype": "text/x-python",
   "name": "python",
   "nbconvert_exporter": "python",
   "pygments_lexer": "ipython3",
   "version": "3.8.5"
  }
 },
 "nbformat": 4,
 "nbformat_minor": 4
}
