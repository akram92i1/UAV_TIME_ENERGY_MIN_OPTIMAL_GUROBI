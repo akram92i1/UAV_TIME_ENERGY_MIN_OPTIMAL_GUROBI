{
 "cells": [
  {
   "cell_type": "code",
   "execution_count": 1,
   "metadata": {},
   "outputs": [
    {
     "name": "stdout",
     "output_type": "stream",
     "text": [
      "Requirement already satisfied: networkx in c:\\users\\ycn\\anaconda3\\lib\\site-packages (2.5)\n",
      "Requirement already satisfied: decorator>=4.3.0 in c:\\users\\ycn\\anaconda3\\lib\\site-packages (from networkx) (4.4.2)\n"
     ]
    }
   ],
   "source": [
    "! pip install networkx"
   ]
  },
  {
   "cell_type": "code",
   "execution_count": 4,
   "metadata": {},
   "outputs": [],
   "source": [
    "import networkx as nx \n",
    "n = 7\n",
    "G = nx.complete_graph(n , nx.DiGraph())"
   ]
  },
  {
   "cell_type": "code",
   "execution_count": 5,
   "metadata": {},
   "outputs": [
    {
     "data": {
      "text/plain": [
       "NodeView((0, 1, 2, 3, 4, 5, 6))"
      ]
     },
     "execution_count": 5,
     "metadata": {},
     "output_type": "execute_result"
    }
   ],
   "source": [
    "G.nodes"
   ]
  },
  {
   "cell_type": "code",
   "execution_count": 6,
   "metadata": {},
   "outputs": [
    {
     "data": {
      "text/plain": [
       "OutEdgeView([(0, 1), (0, 2), (0, 3), (0, 4), (0, 5), (0, 6), (1, 0), (1, 2), (1, 3), (1, 4), (1, 5), (1, 6), (2, 0), (2, 1), (2, 3), (2, 4), (2, 5), (2, 6), (3, 0), (3, 1), (3, 2), (3, 4), (3, 5), (3, 6), (4, 0), (4, 1), (4, 2), (4, 3), (4, 5), (4, 6), (5, 0), (5, 1), (5, 2), (5, 3), (5, 4), (5, 6), (6, 0), (6, 1), (6, 2), (6, 3), (6, 4), (6, 5)])"
      ]
     },
     "execution_count": 6,
     "metadata": {},
     "output_type": "execute_result"
    }
   ],
   "source": [
    "G.edges()"
   ]
  },
  {
   "cell_type": "code",
   "execution_count": 7,
   "metadata": {},
   "outputs": [],
   "source": [
    "import gurobipy as gp \n",
    "from gurobipy import GRB \n",
    "model  = gp.Model('UAV_TimeEnergy_Minimization')"
   ]
  },
  {
   "cell_type": "code",
   "execution_count": 8,
   "metadata": {},
   "outputs": [],
   "source": [
    "u = model.addVars(G.nodes)"
   ]
  },
  {
   "cell_type": "code",
   "execution_count": 12,
   "metadata": {},
   "outputs": [
    {
     "name": "stdout",
     "output_type": "stream",
     "text": [
      "<gurobi.LinExpr: <gurobi.Var *Awaiting Model Update*> + -1.0 <gurobi.Var *Awaiting Model Update*>>\n",
      "<gurobi.LinExpr: <gurobi.Var *Awaiting Model Update*> + -1.0 <gurobi.Var *Awaiting Model Update*>>\n",
      "<gurobi.LinExpr: <gurobi.Var *Awaiting Model Update*> + -1.0 <gurobi.Var *Awaiting Model Update*>>\n",
      "<gurobi.LinExpr: <gurobi.Var *Awaiting Model Update*> + -1.0 <gurobi.Var *Awaiting Model Update*>>\n",
      "<gurobi.LinExpr: <gurobi.Var *Awaiting Model Update*> + -1.0 <gurobi.Var *Awaiting Model Update*>>\n",
      "<gurobi.LinExpr: <gurobi.Var *Awaiting Model Update*> + -1.0 <gurobi.Var *Awaiting Model Update*>>\n",
      "<gurobi.LinExpr: <gurobi.Var *Awaiting Model Update*> + -1.0 <gurobi.Var *Awaiting Model Update*>>\n",
      "<gurobi.LinExpr: <gurobi.Var *Awaiting Model Update*> + -1.0 <gurobi.Var *Awaiting Model Update*>>\n",
      "<gurobi.LinExpr: <gurobi.Var *Awaiting Model Update*> + -1.0 <gurobi.Var *Awaiting Model Update*>>\n",
      "<gurobi.LinExpr: <gurobi.Var *Awaiting Model Update*> + -1.0 <gurobi.Var *Awaiting Model Update*>>\n",
      "<gurobi.LinExpr: <gurobi.Var *Awaiting Model Update*> + -1.0 <gurobi.Var *Awaiting Model Update*>>\n",
      "<gurobi.LinExpr: <gurobi.Var *Awaiting Model Update*> + -1.0 <gurobi.Var *Awaiting Model Update*>>\n",
      "<gurobi.LinExpr: <gurobi.Var *Awaiting Model Update*> + -1.0 <gurobi.Var *Awaiting Model Update*>>\n",
      "<gurobi.LinExpr: <gurobi.Var *Awaiting Model Update*> + -1.0 <gurobi.Var *Awaiting Model Update*>>\n",
      "<gurobi.LinExpr: <gurobi.Var *Awaiting Model Update*> + -1.0 <gurobi.Var *Awaiting Model Update*>>\n",
      "<gurobi.LinExpr: <gurobi.Var *Awaiting Model Update*> + -1.0 <gurobi.Var *Awaiting Model Update*>>\n",
      "<gurobi.LinExpr: <gurobi.Var *Awaiting Model Update*> + -1.0 <gurobi.Var *Awaiting Model Update*>>\n",
      "<gurobi.LinExpr: <gurobi.Var *Awaiting Model Update*> + -1.0 <gurobi.Var *Awaiting Model Update*>>\n",
      "<gurobi.LinExpr: <gurobi.Var *Awaiting Model Update*> + -1.0 <gurobi.Var *Awaiting Model Update*>>\n",
      "<gurobi.LinExpr: <gurobi.Var *Awaiting Model Update*> + -1.0 <gurobi.Var *Awaiting Model Update*>>\n",
      "<gurobi.LinExpr: <gurobi.Var *Awaiting Model Update*> + -1.0 <gurobi.Var *Awaiting Model Update*>>\n",
      "<gurobi.LinExpr: <gurobi.Var *Awaiting Model Update*> + -1.0 <gurobi.Var *Awaiting Model Update*>>\n",
      "<gurobi.LinExpr: <gurobi.Var *Awaiting Model Update*> + -1.0 <gurobi.Var *Awaiting Model Update*>>\n",
      "<gurobi.LinExpr: <gurobi.Var *Awaiting Model Update*> + -1.0 <gurobi.Var *Awaiting Model Update*>>\n",
      "<gurobi.LinExpr: <gurobi.Var *Awaiting Model Update*> + -1.0 <gurobi.Var *Awaiting Model Update*>>\n",
      "<gurobi.LinExpr: <gurobi.Var *Awaiting Model Update*> + -1.0 <gurobi.Var *Awaiting Model Update*>>\n",
      "<gurobi.LinExpr: <gurobi.Var *Awaiting Model Update*> + -1.0 <gurobi.Var *Awaiting Model Update*>>\n",
      "<gurobi.LinExpr: <gurobi.Var *Awaiting Model Update*> + -1.0 <gurobi.Var *Awaiting Model Update*>>\n",
      "<gurobi.LinExpr: <gurobi.Var *Awaiting Model Update*> + -1.0 <gurobi.Var *Awaiting Model Update*>>\n",
      "<gurobi.LinExpr: <gurobi.Var *Awaiting Model Update*> + -1.0 <gurobi.Var *Awaiting Model Update*>>\n",
      "<gurobi.LinExpr: <gurobi.Var *Awaiting Model Update*> + -1.0 <gurobi.Var *Awaiting Model Update*>>\n",
      "<gurobi.LinExpr: <gurobi.Var *Awaiting Model Update*> + -1.0 <gurobi.Var *Awaiting Model Update*>>\n",
      "<gurobi.LinExpr: <gurobi.Var *Awaiting Model Update*> + -1.0 <gurobi.Var *Awaiting Model Update*>>\n",
      "<gurobi.LinExpr: <gurobi.Var *Awaiting Model Update*> + -1.0 <gurobi.Var *Awaiting Model Update*>>\n",
      "<gurobi.LinExpr: <gurobi.Var *Awaiting Model Update*> + -1.0 <gurobi.Var *Awaiting Model Update*>>\n",
      "<gurobi.LinExpr: <gurobi.Var *Awaiting Model Update*> + -1.0 <gurobi.Var *Awaiting Model Update*>>\n",
      "<gurobi.LinExpr: <gurobi.Var *Awaiting Model Update*> + -1.0 <gurobi.Var *Awaiting Model Update*>>\n",
      "<gurobi.LinExpr: <gurobi.Var *Awaiting Model Update*> + -1.0 <gurobi.Var *Awaiting Model Update*>>\n",
      "<gurobi.LinExpr: <gurobi.Var *Awaiting Model Update*> + -1.0 <gurobi.Var *Awaiting Model Update*>>\n",
      "<gurobi.LinExpr: <gurobi.Var *Awaiting Model Update*> + -1.0 <gurobi.Var *Awaiting Model Update*>>\n",
      "<gurobi.LinExpr: <gurobi.Var *Awaiting Model Update*> + -1.0 <gurobi.Var *Awaiting Model Update*>>\n",
      "<gurobi.LinExpr: <gurobi.Var *Awaiting Model Update*> + -1.0 <gurobi.Var *Awaiting Model Update*>>\n"
     ]
    }
   ],
   "source": [
    "for i,j in G.edges:\n",
    "    print(u[i]-u[j])"
   ]
  },
  {
   "cell_type": "code",
   "execution_count": null,
   "metadata": {},
   "outputs": [],
   "source": []
  }
 ],
 "metadata": {
  "kernelspec": {
   "display_name": "Python 3",
   "language": "python",
   "name": "python3"
  },
  "language_info": {
   "codemirror_mode": {
    "name": "ipython",
    "version": 3
   },
   "file_extension": ".py",
   "mimetype": "text/x-python",
   "name": "python",
   "nbconvert_exporter": "python",
   "pygments_lexer": "ipython3",
   "version": "3.8.5"
  }
 },
 "nbformat": 4,
 "nbformat_minor": 4
}
