{
 "cells": [
  {
   "cell_type": "code",
   "execution_count": 257,
   "metadata": {},
   "outputs": [],
   "source": [
    "import matplotlib.pyplot as plt \n",
    "import numpy as np \n",
    "import pandas as pd \n",
    "from graphStructure import graph \n",
    "from structure import node"
   ]
  },
  {
   "cell_type": "code",
   "execution_count": 258,
   "metadata": {},
   "outputs": [],
   "source": [
    "#Read data of sensors\n",
    "sensorData = pd.read_excel('Data/Environement/K=12/SensorInformation.xls')\n",
    "sensorCoordinate = []"
   ]
  },
  {
   "cell_type": "code",
   "execution_count": 259,
   "metadata": {},
   "outputs": [],
   "source": [
    "#Sensors coordinate \n",
    "for row in sensorData.index:\n",
    "    coordinate = (sensorData['X'][row] ,sensorData['Y'][row] ,sensorData['Cluster_Index'][row])\n",
    "    sensorCoordinate.append(coordinate)\n",
    "sensorInformations = sensorCoordinate "
   ]
  },
  {
   "cell_type": "code",
   "execution_count": 260,
   "metadata": {},
   "outputs": [],
   "source": [
    "#Cluster Information \n",
    "clusterData = pd.read_excel('Data/Environement/K=12/ClustersInformations.xls')\n",
    "ClusterInformation = []\n",
    "AllClusterIndex = []"
   ]
  },
  {
   "cell_type": "code",
   "execution_count": 261,
   "metadata": {},
   "outputs": [],
   "source": [
    "#Cluster coordinate \n",
    "for row in clusterData.index:\n",
    "    coordinate = (clusterData['X'][row] ,clusterData['Y'][row] , clusterData['Cluster_index'][row])\n",
    "    ClusterInformation.append(coordinate)\n",
    "    AllClusterIndex.append(clusterData['Cluster_index'][row])\n",
    "C= AllClusterIndex[0:-1]\n",
    "#Create a graph structure \n",
    "predecessor = []\n",
    "sucessor =[]\n",
    "Nodesss = []\n",
    "for i in range(len(AllClusterIndex)):\n",
    "    predecessor = []\n",
    "    sucessor =[]\n",
    "    for j in range(len(AllClusterIndex)):\n",
    "        if i==len(AllClusterIndex)-1 and i!=j:\n",
    "            sucessor.append(j)\n",
    "        if i!=j and j != len(AllClusterIndex)-1 and i!= len(AllClusterIndex)-1 :\n",
    "            predecessor.append(j)\n",
    "            sucessor.append(j)\n",
    "    g = graph(i , predecessor , sucessor)\n",
    "    Nodesss.append(g)\n",
    "N = node(Nodesss)\n",
    "AllClusterIndex\n",
    "# Normlized Data of the Mission \n",
    "nomlizedMissionData = pd.read_excel(\"NormlizedData.xls\")\n",
    "missionInformationSubPath = []\n",
    "missionInformationScores =  []\n",
    "for row in nomlizedMissionData.index:\n",
    "    subPath = (nomlizedMissionData['Cluster_ID'][row] , nomlizedMissionData['Cluster_DESTINATION'][row])\n",
    "    scores  =(float(nomlizedMissionData['TIME_TRAVEL_CONSUMPTION'][row]),float(nomlizedMissionData['HOVERING_TIME'][row]) , float(nomlizedMissionData['ENERGY_HOVER'][row])  , float(nomlizedMissionData['TRAVEL_ENERGY_COST'][row]))\n",
    "    missionInformationSubPath.append(subPath)\n",
    "    missionInformationScores.append(scores)"
   ]
  },
  {
   "cell_type": "code",
   "execution_count": 262,
   "metadata": {},
   "outputs": [
    {
     "data": {
      "text/plain": [
       "[0, 1, 2]"
      ]
     },
     "execution_count": 262,
     "metadata": {},
     "output_type": "execute_result"
    }
   ],
   "source": [
    "C"
   ]
  },
  {
   "cell_type": "code",
   "execution_count": 263,
   "metadata": {},
   "outputs": [
    {
     "data": {
      "text/plain": [
       "[0, 1]"
      ]
     },
     "execution_count": 263,
     "metadata": {},
     "output_type": "execute_result"
    }
   ],
   "source": [
    "N.getpredecessors(2)"
   ]
  },
  {
   "cell_type": "code",
   "execution_count": 25,
   "metadata": {},
   "outputs": [
    {
     "data": {
      "image/png": "[encoded data removed]",
      "text/plain": [
       "<Figure size 432x288 with 1 Axes>"
      ]
     },
     "metadata": {
      "needs_background": "light"
     },
     "output_type": "display_data"
    },
    {
     "data": {
      "text/plain": [
       "<Figure size 1440x1440 with 0 Axes>"
      ]
     },
     "metadata": {},
     "output_type": "display_data"
    }
   ],
   "source": [
    "for coor in sensorInformations:\n",
    "    plt.scatter(coor[0] , coor[1] , c = 'blue')\n",
    "    plt.text(coor[0] , coor[1] , coor[2])\n",
    "for coor in ClusterInformation:\n",
    "    if coor[0] == 0 and coor[1] == 0:\n",
    "        plt.text(0 , 0 , 'Base Station')\n",
    "    plt.scatter(coor[0] , coor[1] , c = 'yellow' )\n",
    "    plt.text(coor[0] , coor[1]  , coor[2])\n",
    "plt.figure(figsize=(20,20))\n",
    "plt.show()"
   ]
  },
  {
   "cell_type": "code",
   "execution_count": 265,
   "metadata": {},
   "outputs": [],
   "source": [
    "# Starting with gurobi , Match subpath with there scores \n",
    "import gurobipy as gp \n",
    "from gurobipy import GRB \n",
    "dataDict = {}\n",
    "for cluster in range(len(missionInformationSubPath)):\n",
    "    dataDict.update({missionInformationSubPath[cluster] : missionInformationScores[cluster]})"
   ]
  },
  {
   "cell_type": "code",
   "execution_count": 266,
   "metadata": {},
   "outputs": [],
   "source": [
    "#Match subpath with there scores  \n",
    "combinations , timeTravel , hoveringTime , energyTravel , hoveringEnergy  = gp.multidict(dataDict)"
   ]
  },
  {
   "cell_type": "code",
   "execution_count": 267,
   "metadata": {},
   "outputs": [],
   "source": [
    "numberOfCluster = 5"
   ]
  },
  {
   "cell_type": "code",
   "execution_count": 268,
   "metadata": {},
   "outputs": [],
   "source": [
    "# The decision variable of the subPath it's equal to 1 if the cluster i is connected with the cluster j \n",
    "#Initialization of the model \n",
    "model  = gp.Model('UAV_TimeEnergy_Minimization')"
   ]
  },
  {
   "cell_type": "code",
   "execution_count": 269,
   "metadata": {},
   "outputs": [],
   "source": [
    "# Create the decision variable for the UAV_TimeEnergy_Minimization \n",
    "# combinations contain the cluster i and the cluster j i--j or a subPath \n",
    "x = model.addVars(combinations , vtype = GRB.BINARY , name='SubPath')\n",
    "TimeTravel = model.addVars(timeTravel , vtype = GRB.CONTINUOUS ,name = 'timeTravel')\n",
    "HoveringTime =  model.addVars(hoveringTime , vtype = GRB.CONTINUOUS ,name = 'hoveringTime')\n",
    "EnergyTravel =  model.addVars(energyTravel , vtype = GRB.CONTINUOUS ,name = 'energyTravel')\n",
    "HoveringEnergy = model.addVars(hoveringEnergy , vtype = GRB.CONTINUOUS ,name = 'hoveringEnergy')"
   ]
  },
  {
   "cell_type": "code",
   "execution_count": 270,
   "metadata": {},
   "outputs": [],
   "source": [
    "#The startingPosition Should be the base station  (C1) --> keep  \n",
    "startingPosition = 3"
   ]
  },
  {
   "cell_type": "code",
   "execution_count": 271,
   "metadata": {},
   "outputs": [],
   "source": [
    "import random \n",
    "Lambda  = random.uniform(0,1)"
   ]
  },
  {
   "cell_type": "code",
   "execution_count": 272,
   "metadata": {},
   "outputs": [
    {
     "data": {
      "text/plain": [
       "[0, 1, 2]"
      ]
     },
     "execution_count": 272,
     "metadata": {},
     "output_type": "execute_result"
    }
   ],
   "source": [
    "C"
   ]
  },
  {
   "cell_type": "code",
   "execution_count": 273,
   "metadata": {},
   "outputs": [
    {
     "name": "stdout",
     "output_type": "stream",
     "text": [
      "λ :  0.13960370256494492 |1-λ 0.8603962974350551\n"
     ]
    }
   ],
   "source": [
    "print(\"λ : \",Lambda , '|1-λ' , 1-Lambda)"
   ]
  },
  {
   "cell_type": "code",
   "execution_count": 274,
   "metadata": {},
   "outputs": [],
   "source": [
    "listOfCluster = []\n",
    "clusterIndex=0 \n",
    "for element in range(len(x)): \n",
    "    listOfCluster.append(clusterIndex)\n",
    "    clusterIndex+=1\n",
    "visitedCluster = {3}"
   ]
  },
  {
   "cell_type": "code",
   "execution_count": 275,
   "metadata": {},
   "outputs": [],
   "source": [
    "#Define the objective function\n",
    "import random \n",
    "from gurobipy import quicksum \n",
    "# λ1  = random.uniform(0,1)\n",
    "# λ2  = 1 - λ1  \n",
    "# model.NumObj = 2 \n",
    "# model.modelSense = GRB.MINIMIZE\n",
    "# model.setObjectiveN(quicksum(TimeTravel[i,j] + HoveringTime[i,j] for  i,j in x) , index=0 , weight = 0.7)\n",
    "# model.setObjectiveN(quicksum(EnergyTravel[i,j] + HoveringEnergy[i,j] for i,j in x) , index=1 , weight = 0.3 )\n",
    "model.setObjective(0.2 * quicksum(TimeTravel[i,j] + HoveringTime[i,j] for  i,j in x) + 0.8 * quicksum(EnergyTravel[i,j] + HoveringEnergy[i,j] for i,j in x)  , GRB.MINIMIZE)\n",
    "model.update()"
   ]
  },
  {
   "cell_type": "code",
   "execution_count": 230,
   "metadata": {},
   "outputs": [],
   "source": [
    "for i in range(numberOfCluster):\n",
    "    model.addConstr(quicksum(x[i,j] for j in range(numberOfCluster) if i!=j and j!= startingPosition ) == 1 , name=\"out_%d\" % i)\n",
    "    model.addConstr(quicksum(x[j,i] for j in range(numberOfCluster) if i!=j and i!= startingPosition ) == 1, name=\"in_%d\" % i)"
   ]
  },
  {
   "cell_type": "code",
   "execution_count": 231,
   "metadata": {},
   "outputs": [],
   "source": [
    "def add_subtour_elimination_constraints(model , n , x):\n",
    "     # Create an empty list to store the subtour elimination constraints\n",
    "    subtour_constraints  = []\n",
    "    for i in range(1,n):\n",
    "        for j in range(i+1 , n):\n",
    "            subtour_constraints.append(model.addConstr(\n",
    "                quicksum(x[i , k] for k in range(n) if k != i)+\n",
    "                quicksum(x[k , j] for k in range(n) if k!= j )<=\n",
    "                quicksum(x[i,j] for i in range(n)) - 1, \"subtour_\" + str(i) + \"_\" + str(j)))\n",
    "    return subtour_constraints"
   ]
  },
  {
   "cell_type": "code",
   "execution_count": null,
   "metadata": {},
   "outputs": [],
   "source": [
    "#N.getpredecessors(startingPosition)\n",
    "\n",
    "quicksum(x[startingPosition,j] for j in N.getsucessors(startingPosition))"
   ]
  },
  {
   "cell_type": "code",
   "execution_count": 276,
   "metadata": {},
   "outputs": [],
   "source": [
    "#Constraint leave the starting position once  OK\n",
    "model.addConstr( quicksum(x[j,startingPosition] for j in N.getpredecessors(startingPosition)) - quicksum(x[startingPosition,j] for j in N.getsucessors(startingPosition)) == -1 )\n",
    "# First visited is the starting position \n",
    "#model.addConstr(quicksum(x[startingPosition,j] for j in C) == 1 , name=\"start_%d\" % j)\n",
    "endingPosition = C[-1] # assuming the last cluster in the list is the ending position\n",
    "model.addConstr(quicksum(x[i,endingPosition] for i in C if i != endingPosition) == 0 , name=\"no_back_to_end\")\n",
    "# Incoming edges + outcoming edges = 0 \n",
    "#model.addConstrs(quicksum(x[i,j] for j in N.getsucessors(i)) - quicksum(x[j,i] for j in N.getpredecessors(i)) == 0 for i in C )\n",
    "\n",
    "#enter  each cluster once \n",
    "model.addConstrs(quicksum(x[i,j] for i in N.getpredecessors(j)) == 1 for j in C)\n",
    "# leave each cluster once  \n",
    "model.addConstrs(quicksum(x[i,j] for j in N.getsucessors(i)) ==1 for i in C)\n",
    "model.update()"
   ]
  },
  {
   "cell_type": "code",
   "execution_count": 277,
   "metadata": {},
   "outputs": [],
   "source": [
    "# pour une ligne droite le model n'arrive pas a trouvé une solution "
   ]
  },
  {
   "cell_type": "code",
   "execution_count": 278,
   "metadata": {},
   "outputs": [
    {
     "name": "stdout",
     "output_type": "stream",
     "text": [
      "Gurobi Optimizer version 9.5.2 build v9.5.2rc0 (win64)\n",
      "Thread count: 6 physical cores, 12 logical processors, using up to 12 threads\n",
      "Optimize a model with 11 rows, 45 columns and 29 nonzeros\n",
      "Model fingerprint: 0xf585e660\n",
      "Variable types: 36 continuous, 9 integer (9 binary)\n",
      "Coefficient statistics:\n",
      "  Matrix range     [1e+00, 1e+00]\n",
      "  Objective range  [2e-01, 8e-01]\n",
      "  Bounds range     [1e+00, 1e+00]\n",
      "  RHS range        [1e+00, 1e+00]\n",
      "Presolve removed 1 rows and 39 columns\n",
      "Presolve time: 0.00s\n",
      "\n",
      "Explored 0 nodes (0 simplex iterations) in 0.01 seconds (0.00 work units)\n",
      "Thread count was 1 (of 12 available processors)\n",
      "\n",
      "Solution count 0\n",
      "\n",
      "Model is infeasible\n",
      "Best objective -, best bound -, gap -\n"
     ]
    }
   ],
   "source": [
    "model.optimize()"
   ]
  },
  {
   "cell_type": "code",
   "execution_count": 255,
   "metadata": {},
   "outputs": [],
   "source": [
    "active_arcs = [ i for i in x if x[i].x>0.99]"
   ]
  },
  {
   "cell_type": "code",
   "execution_count": 256,
   "metadata": {},
   "outputs": [
    {
     "data": {
      "image/png": "[encoded data removed]",
      "text/plain": [
       "<Figure size 432x288 with 1 Axes>"
      ]
     },
     "metadata": {
      "needs_background": "light"
     },
     "output_type": "display_data"
    },
    {
     "name": "stdout",
     "output_type": "stream",
     "text": [
      "[(0, 1), (1, 2), (2, 0), (3, 0)]\n"
     ]
    },
    {
     "data": {
      "text/plain": [
       "<Figure size 432x288 with 0 Axes>"
      ]
     },
     "metadata": {},
     "output_type": "display_data"
    }
   ],
   "source": [
    "\n",
    "def getCoordinateFromClusterIndex(index):\n",
    "    for coor in ClusterInformation:\n",
    "        if coor[2] == index:\n",
    "            return [coor[0] , coor[1]]\n",
    "    \n",
    "active_arcs \n",
    "for coor in sensorInformations:\n",
    "    plt.scatter(coor[0] , coor[1] , c = 'blue')\n",
    "    plt.text(coor[0] , coor[1] , coor[2])\n",
    "for coor in ClusterInformation:\n",
    "    if coor[0] == 0 and coor[1] == 0:\n",
    "        plt.text(0 , 0 , 'Base Station')\n",
    "    plt.scatter(coor[0] , coor[1] , c = 'yellow' )\n",
    "    plt.text(coor[0] , coor[1]  , coor[2])\n",
    "for subPath in active_arcs:\n",
    "    cor1 = getCoordinateFromClusterIndex(subPath[0])\n",
    "    cor2 = getCoordinateFromClusterIndex(subPath[1])\n",
    "    X = [cor1[0] , cor2[0]] \n",
    "    Y = [cor1[1] , cor2[1]]\n",
    "    plt.plot(X , Y)\n",
    "plt.show()\n",
    "#Print the subPath\n",
    "plt.show()\n",
    "print(active_arcs)\n",
    "plt.savefig('solverPath.png')"
   ]
  },
  {
   "cell_type": "code",
   "execution_count": null,
   "metadata": {},
   "outputs": [],
   "source": [
    "edges = []\n",
    "for edge in missionInformationSubPath:\n",
    "    edges.append(edge)\n",
    "edges = tuple(edges)\n",
    "print(edges)"
   ]
  },
  {
   "cell_type": "code",
   "execution_count": 181,
   "metadata": {},
   "outputs": [
    {
     "name": "stdout",
     "output_type": "stream",
     "text": [
      "(0, 1, 2, 3)\n"
     ]
    }
   ],
   "source": [
    "allNodes = [i for i in range(0 , numberOfCluster)]\n",
    "allNodes = tuple(allNodes)\n",
    "print(allNodes)\n",
    "\n",
    "t = {}\n",
    "for i in range(numberOfCluster):\n",
    "    for j in range(numberOfCluster):\n",
    "        t[i, j] = model.addVar(vtype=GRB.BINARY, lb=0, ub=1, name=\"t_%d_%d\" % (i, j))\n",
    "\n",
    "model.update()"
   ]
  },
  {
   "cell_type": "code",
   "execution_count": 182,
   "metadata": {},
   "outputs": [],
   "source": [
    "model.update()"
   ]
  },
  {
   "cell_type": "code",
   "execution_count": null,
   "metadata": {},
   "outputs": [],
   "source": [
    "# Add the Miller-Tucker-Zemlin variables and constraints and resolve \n",
    "u = model.addVars(allNodes)\n",
    "model.update()\n",
    "# (i , j) in tour => u[j] >= u[i] +1 \n",
    "#EX : assume start at node 0 \n",
    "model.addConstrs(u[i] - u[j] + (numberOfCluster*x[i , j]) <= numberOfCluster-1 for i,j in edges if j!= startingPosition)\n",
    "model.optimize()"
   ]
  },
  {
   "cell_type": "code",
   "execution_count": null,
   "metadata": {},
   "outputs": [],
   "source": [
    "active_arcs = [ i for i in x if x[i].x>0.99]"
   ]
  },
  {
   "cell_type": "code",
   "execution_count": null,
   "metadata": {},
   "outputs": [],
   "source": [
    "active_arcs"
   ]
  },
  {
   "cell_type": "code",
   "execution_count": null,
   "metadata": {},
   "outputs": [],
   "source": []
  }
 ],
 "metadata": {
  "kernelspec": {
   "display_name": "base",
   "language": "python",
   "name": "python3"
  },
  "language_info": {
   "codemirror_mode": {
    "name": "ipython",
    "version": 3
   },
   "file_extension": ".py",
   "mimetype": "text/x-python",
   "name": "python",
   "nbconvert_exporter": "python",
   "pygments_lexer": "ipython3",
   "version": "3.8.5 (default, Sep  3 2020, 21:29:08) [MSC v.1916 64 bit (AMD64)]"
  },
  "vscode": {
   "interpreter": {
    "hash": "ae205658eccd0e4e5b2a976b2be5a750c89f2275e688345f971447903ba248df"
   }
  }
 },
 "nbformat": 4,
 "nbformat_minor": 4
}
