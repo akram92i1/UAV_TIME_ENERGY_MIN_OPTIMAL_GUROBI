{
 "cells": [
  {
   "cell_type": "code",
   "execution_count": 1,
   "metadata": {},
   "outputs": [],
   "source": [
    "import matplotlib.pyplot as plt \n",
    "import numpy as np \n",
    "import pandas as pd "
   ]
  },
  {
   "cell_type": "code",
   "execution_count": 7,
   "metadata": {},
   "outputs": [],
   "source": [
    "#Read data of sensors\n",
    "sensorData = pd.read_excel('Data/Environement/K=3/SensorInformation.xls')\n",
    "sensorCoordinate = []"
   ]
  },
  {
   "cell_type": "code",
   "execution_count": 28,
   "metadata": {},
   "outputs": [],
   "source": [
    "#Sensors coordinate \n",
    "for row in sensorData.index:\n",
    "    coordinate = (sensorData['X'][row] ,sensorData['Y'][row] )\n",
    "    sensorCoordinate.append(coordinate)"
   ]
  },
  {
   "cell_type": "code",
   "execution_count": 32,
   "metadata": {},
   "outputs": [],
   "source": [
    "#Cluster Information \n",
    "clusterData = pd.read_excel('Data/Environement/K=3/ClustersInformations.xls')\n",
    "ClusterInformation = []"
   ]
  },
  {
   "cell_type": "code",
   "execution_count": 35,
   "metadata": {},
   "outputs": [],
   "source": [
    "#Cluster coordinate \n",
    "for row in clusterData.index:\n",
    "    coordinate = (clusterData['X'][row] ,clusterData['Y'][row] )\n",
    "    ClusterInformation.append(coordinate)\n"
   ]
  },
  {
   "cell_type": "code",
   "execution_count": 41,
   "metadata": {},
   "outputs": [],
   "source": [
    "# Normlized Data of the Mission \n",
    "nomlizedMissionData = pd.read_excel(\"NormlizedData.xls\")\n",
    "missionInformationSubPath = []\n",
    "missionInformationScores =  []\n",
    "for row in nomlizedMissionData.index:\n",
    "    subPath = (nomlizedMissionData['Cluster_ID'][row] , nomlizedMissionData['Cluster_DESTINATION'][row])\n",
    "    scores  =(float(nomlizedMissionData['TIME_TRAVEL_CONSUMPTION'][row]),float(nomlizedMissionData['HOVERING_TIME'][row]) , float(nomlizedMissionData['ENERGY_HOVER'][row])  , float(nomlizedMissionData['TRAVEL_ENERGY_COST'][row]))\n",
    "    missionInformationSubPath.append(subPath)\n",
    "    missionInformationScores.append(scores)"
   ]
  },
  {
   "cell_type": "code",
   "execution_count": 42,
   "metadata": {},
   "outputs": [],
   "source": [
    "# Starting with gurobi , Match subpath with there scores \n",
    "import gurobipy as gp \n",
    "from gurobipy import GRB "
   ]
  },
  {
   "cell_type": "code",
   "execution_count": 44,
   "metadata": {},
   "outputs": [],
   "source": [
    "dataDict = {}\n",
    "for cluster in range(len(missionInformationSubPath)):\n",
    "    dataDict.update({missionInformationSubPath[cluster] : missionInformationScores[cluster]})"
   ]
  },
  {
   "cell_type": "code",
   "execution_count": 54,
   "metadata": {},
   "outputs": [],
   "source": [
    "#Match subpath with there scores  \n",
    "combinations , timeTravel , hoveringTime , energyTravel , hoveringEnergy  = gp.multidict(dataDict)"
   ]
  },
  {
   "cell_type": "code",
   "execution_count": 60,
   "metadata": {},
   "outputs": [],
   "source": [
    "numberOfCluster = 14"
   ]
  },
  {
   "cell_type": "code",
   "execution_count": 66,
   "metadata": {},
   "outputs": [
    {
     "name": "stdout",
     "output_type": "stream",
     "text": [
      "Restricted license - for non-production use only - expires 2023-10-25\n"
     ]
    }
   ],
   "source": [
    "# The decision variable of the subPath it's equal to 1 if the cluster i is connected with the cluster j \n",
    "#Initialization of the model \n",
    "model  = gp.Model('UAV_TimeEnergy_Minimization')"
   ]
  },
  {
   "cell_type": "code",
   "execution_count": null,
   "metadata": {},
   "outputs": [],
   "source": [
    "# Create the decision variable for the UAV_TimeEnergy_Minimization \n",
    "# combinations contain the cluster i and the cluster j i--j or a subPath \n"
   ]
  }
 ],
 "metadata": {
  "kernelspec": {
   "display_name": "Python 3",
   "language": "python",
   "name": "python3"
  },
  "language_info": {
   "codemirror_mode": {
    "name": "ipython",
    "version": 3
   },
   "file_extension": ".py",
   "mimetype": "text/x-python",
   "name": "python",
   "nbconvert_exporter": "python",
   "pygments_lexer": "ipython3",
   "version": "3.8.5"
  }
 },
 "nbformat": 4,
 "nbformat_minor": 4
}
