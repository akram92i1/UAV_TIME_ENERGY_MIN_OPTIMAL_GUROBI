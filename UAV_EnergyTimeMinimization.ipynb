{
 "cells": [
  {
   "cell_type": "code",
   "execution_count": 1,
   "metadata": {},
   "outputs": [],
   "source": [
    "import matplotlib.pyplot as plt \n",
    "import numpy as np \n",
    "import pandas as pd "
   ]
  },
  {
   "cell_type": "code",
   "execution_count": 7,
   "metadata": {},
   "outputs": [],
   "source": [
    "#Read data of sensors\n",
    "sensorData = pd.read_excel('Data/Environement/K=3/SensorInformation.xls')\n",
    "sensorCoordinate = []"
   ]
  },
  {
   "cell_type": "code",
   "execution_count": 28,
   "metadata": {},
   "outputs": [],
   "source": [
    "#Sensors coordinate \n",
    "for row in sensorData.index:\n",
    "    coordinate = (sensorData['X'][row] ,sensorData['Y'][row] )\n",
    "    sensorCoordinate.append(coordinate)"
   ]
  },
  {
   "cell_type": "code",
   "execution_count": 32,
   "metadata": {},
   "outputs": [],
   "source": [
    "#Cluster Information \n",
    "clusterData = pd.read_excel('Data/Environement/K=3/ClustersInformations.xls')\n",
    "ClusterInformation = []"
   ]
  },
  {
   "cell_type": "code",
   "execution_count": 35,
   "metadata": {},
   "outputs": [],
   "source": [
    "#Cluster coordinate \n",
    "for row in clusterData.index:\n",
    "    coordinate = (clusterData['X'][row] ,clusterData['Y'][row] )\n",
    "    ClusterInformation.append(coordinate)\n"
   ]
  },
  {
   "cell_type": "code",
   "execution_count": 41,
   "metadata": {},
   "outputs": [],
   "source": [
    "# Normlized Data of the Mission \n",
    "nomlizedMissionData = pd.read_excel(\"NormlizedData.xls\")\n",
    "missionInformationSubPath = []\n",
    "missionInformationScores =  []\n",
    "for row in nomlizedMissionData.index:\n",
    "    subPath = (nomlizedMissionData['Cluster_ID'][row] , nomlizedMissionData['Cluster_DESTINATION'][row])\n",
    "    scores  =(float(nomlizedMissionData['TIME_TRAVEL_CONSUMPTION'][row]),float(nomlizedMissionData['HOVERING_TIME'][row]) , float(nomlizedMissionData['ENERGY_HOVER'][row])  , float(nomlizedMissionData['TRAVEL_ENERGY_COST'][row]))\n",
    "    missionInformationSubPath.append(subPath)\n",
    "    missionInformationScores.append(scores)"
   ]
  },
  {
   "cell_type": "code",
   "execution_count": 42,
   "metadata": {},
   "outputs": [],
   "source": [
    "# Starting with gurobi , Match subpath with there scores \n",
    "import gurobipy as gp \n",
    "from gurobipy import GRB "
   ]
  },
  {
   "cell_type": "code",
   "execution_count": 44,
   "metadata": {},
   "outputs": [],
   "source": [
    "dataDict = {}\n",
    "for cluster in range(len(missionInformationSubPath)):\n",
    "    dataDict.update({missionInformationSubPath[cluster] : missionInformationScores[cluster]})"
   ]
  },
  {
   "cell_type": "code",
   "execution_count": 54,
   "metadata": {},
   "outputs": [],
   "source": [
    "#Match subpath with there scores  \n",
    "combinations , timeTravel , hoveringTime , energyTravel , hoveringEnergy  = gp.multidict(dataDict)"
   ]
  },
  {
   "cell_type": "code",
   "execution_count": 60,
   "metadata": {},
   "outputs": [],
   "source": [
    "numberOfCluster = 14"
   ]
  },
  {
   "cell_type": "code",
   "execution_count": 66,
   "metadata": {},
   "outputs": [
    {
     "name": "stdout",
     "output_type": "stream",
     "text": [
      "Restricted license - for non-production use only - expires 2023-10-25\n"
     ]
    }
   ],
   "source": [
    "# The decision variable of the subPath it's equal to 1 if the cluster i is connected with the cluster j \n",
    "#Initialization of the model \n",
    "model  = gp.Model('UAV_TimeEnergy_Minimization')"
   ]
  },
  {
   "cell_type": "code",
   "execution_count": 67,
   "metadata": {},
   "outputs": [],
   "source": [
    "# Create the decision variable for the UAV_TimeEnergy_Minimization \n",
    "# combinations contain the cluster i and the cluster j i--j or a subPath \n",
    "decisionVarForSubPath = model.addVars(combinations , vtype = GRB.BINARY)"
   ]
  },
  {
   "cell_type": "code",
   "execution_count": 68,
   "metadata": {},
   "outputs": [
    {
     "data": {
      "text/plain": [
       "{(0, 1): <gurobi.Var *Awaiting Model Update*>,\n",
       " (0, 2): <gurobi.Var *Awaiting Model Update*>,\n",
       " (0, 3): <gurobi.Var *Awaiting Model Update*>,\n",
       " (0, 4): <gurobi.Var *Awaiting Model Update*>,\n",
       " (0, 5): <gurobi.Var *Awaiting Model Update*>,\n",
       " (0, 6): <gurobi.Var *Awaiting Model Update*>,\n",
       " (0, 7): <gurobi.Var *Awaiting Model Update*>,\n",
       " (0, 8): <gurobi.Var *Awaiting Model Update*>,\n",
       " (0, 9): <gurobi.Var *Awaiting Model Update*>,\n",
       " (0, 10): <gurobi.Var *Awaiting Model Update*>,\n",
       " (0, 11): <gurobi.Var *Awaiting Model Update*>,\n",
       " (0, 12): <gurobi.Var *Awaiting Model Update*>,\n",
       " (1, 0): <gurobi.Var *Awaiting Model Update*>,\n",
       " (1, 2): <gurobi.Var *Awaiting Model Update*>,\n",
       " (1, 3): <gurobi.Var *Awaiting Model Update*>,\n",
       " (1, 4): <gurobi.Var *Awaiting Model Update*>,\n",
       " (1, 5): <gurobi.Var *Awaiting Model Update*>,\n",
       " (1, 6): <gurobi.Var *Awaiting Model Update*>,\n",
       " (1, 7): <gurobi.Var *Awaiting Model Update*>,\n",
       " (1, 8): <gurobi.Var *Awaiting Model Update*>,\n",
       " (1, 9): <gurobi.Var *Awaiting Model Update*>,\n",
       " (1, 10): <gurobi.Var *Awaiting Model Update*>,\n",
       " (1, 11): <gurobi.Var *Awaiting Model Update*>,\n",
       " (1, 12): <gurobi.Var *Awaiting Model Update*>,\n",
       " (2, 0): <gurobi.Var *Awaiting Model Update*>,\n",
       " (2, 1): <gurobi.Var *Awaiting Model Update*>,\n",
       " (2, 3): <gurobi.Var *Awaiting Model Update*>,\n",
       " (2, 4): <gurobi.Var *Awaiting Model Update*>,\n",
       " (2, 5): <gurobi.Var *Awaiting Model Update*>,\n",
       " (2, 6): <gurobi.Var *Awaiting Model Update*>,\n",
       " (2, 7): <gurobi.Var *Awaiting Model Update*>,\n",
       " (2, 8): <gurobi.Var *Awaiting Model Update*>,\n",
       " (2, 9): <gurobi.Var *Awaiting Model Update*>,\n",
       " (2, 10): <gurobi.Var *Awaiting Model Update*>,\n",
       " (2, 11): <gurobi.Var *Awaiting Model Update*>,\n",
       " (2, 12): <gurobi.Var *Awaiting Model Update*>,\n",
       " (3, 0): <gurobi.Var *Awaiting Model Update*>,\n",
       " (3, 1): <gurobi.Var *Awaiting Model Update*>,\n",
       " (3, 2): <gurobi.Var *Awaiting Model Update*>,\n",
       " (3, 4): <gurobi.Var *Awaiting Model Update*>,\n",
       " (3, 5): <gurobi.Var *Awaiting Model Update*>,\n",
       " (3, 6): <gurobi.Var *Awaiting Model Update*>,\n",
       " (3, 7): <gurobi.Var *Awaiting Model Update*>,\n",
       " (3, 8): <gurobi.Var *Awaiting Model Update*>,\n",
       " (3, 9): <gurobi.Var *Awaiting Model Update*>,\n",
       " (3, 10): <gurobi.Var *Awaiting Model Update*>,\n",
       " (3, 11): <gurobi.Var *Awaiting Model Update*>,\n",
       " (3, 12): <gurobi.Var *Awaiting Model Update*>,\n",
       " (4, 0): <gurobi.Var *Awaiting Model Update*>,\n",
       " (4, 1): <gurobi.Var *Awaiting Model Update*>,\n",
       " (4, 2): <gurobi.Var *Awaiting Model Update*>,\n",
       " (4, 3): <gurobi.Var *Awaiting Model Update*>,\n",
       " (4, 5): <gurobi.Var *Awaiting Model Update*>,\n",
       " (4, 6): <gurobi.Var *Awaiting Model Update*>,\n",
       " (4, 7): <gurobi.Var *Awaiting Model Update*>,\n",
       " (4, 8): <gurobi.Var *Awaiting Model Update*>,\n",
       " (4, 9): <gurobi.Var *Awaiting Model Update*>,\n",
       " (4, 10): <gurobi.Var *Awaiting Model Update*>,\n",
       " (4, 11): <gurobi.Var *Awaiting Model Update*>,\n",
       " (4, 12): <gurobi.Var *Awaiting Model Update*>,\n",
       " (5, 0): <gurobi.Var *Awaiting Model Update*>,\n",
       " (5, 1): <gurobi.Var *Awaiting Model Update*>,\n",
       " (5, 2): <gurobi.Var *Awaiting Model Update*>,\n",
       " (5, 3): <gurobi.Var *Awaiting Model Update*>,\n",
       " (5, 4): <gurobi.Var *Awaiting Model Update*>,\n",
       " (5, 6): <gurobi.Var *Awaiting Model Update*>,\n",
       " (5, 7): <gurobi.Var *Awaiting Model Update*>,\n",
       " (5, 8): <gurobi.Var *Awaiting Model Update*>,\n",
       " (5, 9): <gurobi.Var *Awaiting Model Update*>,\n",
       " (5, 10): <gurobi.Var *Awaiting Model Update*>,\n",
       " (5, 11): <gurobi.Var *Awaiting Model Update*>,\n",
       " (5, 12): <gurobi.Var *Awaiting Model Update*>,\n",
       " (6, 0): <gurobi.Var *Awaiting Model Update*>,\n",
       " (6, 1): <gurobi.Var *Awaiting Model Update*>,\n",
       " (6, 2): <gurobi.Var *Awaiting Model Update*>,\n",
       " (6, 3): <gurobi.Var *Awaiting Model Update*>,\n",
       " (6, 4): <gurobi.Var *Awaiting Model Update*>,\n",
       " (6, 5): <gurobi.Var *Awaiting Model Update*>,\n",
       " (6, 7): <gurobi.Var *Awaiting Model Update*>,\n",
       " (6, 8): <gurobi.Var *Awaiting Model Update*>,\n",
       " (6, 9): <gurobi.Var *Awaiting Model Update*>,\n",
       " (6, 10): <gurobi.Var *Awaiting Model Update*>,\n",
       " (6, 11): <gurobi.Var *Awaiting Model Update*>,\n",
       " (6, 12): <gurobi.Var *Awaiting Model Update*>,\n",
       " (7, 0): <gurobi.Var *Awaiting Model Update*>,\n",
       " (7, 1): <gurobi.Var *Awaiting Model Update*>,\n",
       " (7, 2): <gurobi.Var *Awaiting Model Update*>,\n",
       " (7, 3): <gurobi.Var *Awaiting Model Update*>,\n",
       " (7, 4): <gurobi.Var *Awaiting Model Update*>,\n",
       " (7, 5): <gurobi.Var *Awaiting Model Update*>,\n",
       " (7, 6): <gurobi.Var *Awaiting Model Update*>,\n",
       " (7, 8): <gurobi.Var *Awaiting Model Update*>,\n",
       " (7, 9): <gurobi.Var *Awaiting Model Update*>,\n",
       " (7, 10): <gurobi.Var *Awaiting Model Update*>,\n",
       " (7, 11): <gurobi.Var *Awaiting Model Update*>,\n",
       " (7, 12): <gurobi.Var *Awaiting Model Update*>,\n",
       " (8, 0): <gurobi.Var *Awaiting Model Update*>,\n",
       " (8, 1): <gurobi.Var *Awaiting Model Update*>,\n",
       " (8, 2): <gurobi.Var *Awaiting Model Update*>,\n",
       " (8, 3): <gurobi.Var *Awaiting Model Update*>,\n",
       " (8, 4): <gurobi.Var *Awaiting Model Update*>,\n",
       " (8, 5): <gurobi.Var *Awaiting Model Update*>,\n",
       " (8, 6): <gurobi.Var *Awaiting Model Update*>,\n",
       " (8, 7): <gurobi.Var *Awaiting Model Update*>,\n",
       " (8, 9): <gurobi.Var *Awaiting Model Update*>,\n",
       " (8, 10): <gurobi.Var *Awaiting Model Update*>,\n",
       " (8, 11): <gurobi.Var *Awaiting Model Update*>,\n",
       " (8, 12): <gurobi.Var *Awaiting Model Update*>,\n",
       " (9, 0): <gurobi.Var *Awaiting Model Update*>,\n",
       " (9, 1): <gurobi.Var *Awaiting Model Update*>,\n",
       " (9, 2): <gurobi.Var *Awaiting Model Update*>,\n",
       " (9, 3): <gurobi.Var *Awaiting Model Update*>,\n",
       " (9, 4): <gurobi.Var *Awaiting Model Update*>,\n",
       " (9, 5): <gurobi.Var *Awaiting Model Update*>,\n",
       " (9, 6): <gurobi.Var *Awaiting Model Update*>,\n",
       " (9, 7): <gurobi.Var *Awaiting Model Update*>,\n",
       " (9, 8): <gurobi.Var *Awaiting Model Update*>,\n",
       " (9, 10): <gurobi.Var *Awaiting Model Update*>,\n",
       " (9, 11): <gurobi.Var *Awaiting Model Update*>,\n",
       " (9, 12): <gurobi.Var *Awaiting Model Update*>,\n",
       " (10, 0): <gurobi.Var *Awaiting Model Update*>,\n",
       " (10, 1): <gurobi.Var *Awaiting Model Update*>,\n",
       " (10, 2): <gurobi.Var *Awaiting Model Update*>,\n",
       " (10, 3): <gurobi.Var *Awaiting Model Update*>,\n",
       " (10, 4): <gurobi.Var *Awaiting Model Update*>,\n",
       " (10, 5): <gurobi.Var *Awaiting Model Update*>,\n",
       " (10, 6): <gurobi.Var *Awaiting Model Update*>,\n",
       " (10, 7): <gurobi.Var *Awaiting Model Update*>,\n",
       " (10, 8): <gurobi.Var *Awaiting Model Update*>,\n",
       " (10, 9): <gurobi.Var *Awaiting Model Update*>,\n",
       " (10, 11): <gurobi.Var *Awaiting Model Update*>,\n",
       " (10, 12): <gurobi.Var *Awaiting Model Update*>,\n",
       " (11, 0): <gurobi.Var *Awaiting Model Update*>,\n",
       " (11, 1): <gurobi.Var *Awaiting Model Update*>,\n",
       " (11, 2): <gurobi.Var *Awaiting Model Update*>,\n",
       " (11, 3): <gurobi.Var *Awaiting Model Update*>,\n",
       " (11, 4): <gurobi.Var *Awaiting Model Update*>,\n",
       " (11, 5): <gurobi.Var *Awaiting Model Update*>,\n",
       " (11, 6): <gurobi.Var *Awaiting Model Update*>,\n",
       " (11, 7): <gurobi.Var *Awaiting Model Update*>,\n",
       " (11, 8): <gurobi.Var *Awaiting Model Update*>,\n",
       " (11, 9): <gurobi.Var *Awaiting Model Update*>,\n",
       " (11, 10): <gurobi.Var *Awaiting Model Update*>,\n",
       " (11, 12): <gurobi.Var *Awaiting Model Update*>,\n",
       " (12, 0): <gurobi.Var *Awaiting Model Update*>,\n",
       " (12, 1): <gurobi.Var *Awaiting Model Update*>,\n",
       " (12, 2): <gurobi.Var *Awaiting Model Update*>,\n",
       " (12, 3): <gurobi.Var *Awaiting Model Update*>,\n",
       " (12, 4): <gurobi.Var *Awaiting Model Update*>,\n",
       " (12, 5): <gurobi.Var *Awaiting Model Update*>,\n",
       " (12, 6): <gurobi.Var *Awaiting Model Update*>,\n",
       " (12, 7): <gurobi.Var *Awaiting Model Update*>,\n",
       " (12, 8): <gurobi.Var *Awaiting Model Update*>,\n",
       " (12, 9): <gurobi.Var *Awaiting Model Update*>,\n",
       " (12, 10): <gurobi.Var *Awaiting Model Update*>,\n",
       " (12, 11): <gurobi.Var *Awaiting Model Update*>,\n",
       " (13, 0): <gurobi.Var *Awaiting Model Update*>,\n",
       " (13, 1): <gurobi.Var *Awaiting Model Update*>,\n",
       " (13, 2): <gurobi.Var *Awaiting Model Update*>,\n",
       " (13, 3): <gurobi.Var *Awaiting Model Update*>,\n",
       " (13, 4): <gurobi.Var *Awaiting Model Update*>,\n",
       " (13, 5): <gurobi.Var *Awaiting Model Update*>,\n",
       " (13, 6): <gurobi.Var *Awaiting Model Update*>,\n",
       " (13, 7): <gurobi.Var *Awaiting Model Update*>,\n",
       " (13, 8): <gurobi.Var *Awaiting Model Update*>,\n",
       " (13, 9): <gurobi.Var *Awaiting Model Update*>,\n",
       " (13, 10): <gurobi.Var *Awaiting Model Update*>,\n",
       " (13, 11): <gurobi.Var *Awaiting Model Update*>,\n",
       " (13, 12): <gurobi.Var *Awaiting Model Update*>}"
      ]
     },
     "execution_count": 68,
     "metadata": {},
     "output_type": "execute_result"
    }
   ],
   "source": [
    "decisionVarForSubPath"
   ]
  },
  {
   "cell_type": "code",
   "execution_count": null,
   "metadata": {},
   "outputs": [],
   "source": []
  }
 ],
 "metadata": {
  "kernelspec": {
   "display_name": "Python 3",
   "language": "python",
   "name": "python3"
  },
  "language_info": {
   "codemirror_mode": {
    "name": "ipython",
    "version": 3
   },
   "file_extension": ".py",
   "mimetype": "text/x-python",
   "name": "python",
   "nbconvert_exporter": "python",
   "pygments_lexer": "ipython3",
   "version": "3.8.5"
  }
 },
 "nbformat": 4,
 "nbformat_minor": 4
}
