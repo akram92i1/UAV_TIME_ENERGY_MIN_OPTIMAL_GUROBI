{
 "cells": [
  {
   "cell_type": "code",
   "execution_count": 6,
   "metadata": {},
   "outputs": [],
   "source": [
    "import numpy as np \n",
    "from sklearn.cluster import SpectralClustering "
   ]
  },
  {
   "cell_type": "code",
   "execution_count": 7,
   "metadata": {},
   "outputs": [],
   "source": [
    "# Generate sample data\n",
    "X = np.array([[1, 2], [1, 4], [1, 0], [4, 2], [4, 4], [4, 0]])"
   ]
  },
  {
   "cell_type": "code",
   "execution_count": 8,
   "metadata": {},
   "outputs": [],
   "source": [
    "# Fit the SpectralClustering model\n",
    "model = SpectralClustering(n_clusters=3, random_state=0).fit(X)\n"
   ]
  },
  {
   "cell_type": "code",
   "execution_count": 9,
   "metadata": {},
   "outputs": [],
   "source": [
    "# Obtain the cluster labels for each data point\n",
    "labels = model.labels_"
   ]
  },
  {
   "cell_type": "code",
   "execution_count": 10,
   "metadata": {},
   "outputs": [],
   "source": [
    "# Get the points belonging to a specific cluster\n",
    "cluster_0_points = X[labels == 0]\n",
    "cluster_1_points = X[labels == 1]\n",
    "cluster_3_points = X[labels == 2]"
   ]
  },
  {
   "cell_type": "code",
   "execution_count": 11,
   "metadata": {},
   "outputs": [
    {
     "data": {
      "text/plain": [
       "array([[1, 2],\n",
       "       [1, 4],\n",
       "       [1, 0],\n",
       "       [4, 2],\n",
       "       [4, 4],\n",
       "       [4, 0]])"
      ]
     },
     "execution_count": 11,
     "metadata": {},
     "output_type": "execute_result"
    }
   ],
   "source": [
    "X"
   ]
  },
  {
   "cell_type": "code",
   "execution_count": 12,
   "metadata": {},
   "outputs": [],
   "source": [
    "cluster_0_points\n",
    "cluster_0_centroid  = np.mean(cluster_0_points , axis = 0 )\n",
    "cluster_1_centroid  = np.mean(cluster_1_points , axis = 0 )\n",
    "cluster_2_centroid  = np.mean(cluster_3_points , axis = 0 )"
   ]
  },
  {
   "cell_type": "code",
   "execution_count": 13,
   "metadata": {},
   "outputs": [
    {
     "data": {
      "image/png": "[encoded data removed]",
      "text/plain": [
       "<Figure size 432x288 with 1 Axes>"
      ]
     },
     "metadata": {
      "needs_background": "light"
     },
     "output_type": "display_data"
    }
   ],
   "source": [
    "import matplotlib.pyplot as plt \n",
    "for elem in X:\n",
    "    plt.scatter(elem[0] , elem[1])\n",
    "plt.show()"
   ]
  },
  {
   "cell_type": "code",
   "execution_count": 14,
   "metadata": {},
   "outputs": [
    {
     "data": {
      "text/plain": [
       "<matplotlib.collections.PathCollection at 0x2b4c94902e0>"
      ]
     },
     "execution_count": 14,
     "metadata": {},
     "output_type": "execute_result"
    },
    {
     "data": {
      "image/png": "[encoded data removed]",
      "text/plain": [
       "<Figure size 432x288 with 1 Axes>"
      ]
     },
     "metadata": {
      "needs_background": "light"
     },
     "output_type": "display_data"
    }
   ],
   "source": [
    "plt.scatter(cluster_0_centroid[0] ,  cluster_0_centroid[1] , marker='x')\n",
    "plt.scatter(cluster_1_centroid[0] ,  cluster_1_centroid[1] ,  marker='x')\n",
    "plt.scatter(cluster_2_centroid[0] ,  cluster_2_centroid[1] ,  marker='x')"
   ]
  },
  {
   "cell_type": "code",
   "execution_count": 16,
   "metadata": {},
   "outputs": [],
   "source": [
    "def cluster_SPectralClustering(numberOfCluster , data):\n",
    "    # Fit the SpectralClustering model\n",
    "    model = SpectralClustering(n_clusters=numberOfCluster , random_state=0).fit(data)\n",
    "    # Obtain the cluster labels for each data point\n",
    "    labels = model.labels_\n",
    "    points = []\n",
    "    for _ in range(numberOfCluster):\n",
    "        print(_)\n",
    "        centroid = data[labels == _ ]\n",
    "        centroids_points = np.mean(centroid , axis = 0 )\n",
    "        points.append(centroids_points)\n",
    "    return points "
   ]
  },
  {
   "cell_type": "code",
   "execution_count": 17,
   "metadata": {},
   "outputs": [],
   "source": [
    "import numpy as np \n",
    "import pandas as pd \n",
    "#Read data of sensors\n",
    "sensorData = pd.read_excel('Data/Environement/K=3/SensorInformation.xls')\n",
    "sensorCoordinate = []"
   ]
  },
  {
   "cell_type": "code",
   "execution_count": 18,
   "metadata": {},
   "outputs": [],
   "source": [
    "#Sensors coordinate \n",
    "for row in sensorData.index:\n",
    "    coordinate = [sensorData['X'][row] ,sensorData['Y'][row]]\n",
    "    sensorCoordinate.append(coordinate)    \n",
    "sensorInformations = sensorCoordinate \n"
   ]
  },
  {
   "cell_type": "code",
   "execution_count": 19,
   "metadata": {},
   "outputs": [
    {
     "data": {
      "text/plain": [
       "array([[366, 466],\n",
       "       [472, 439],\n",
       "       [201, 122],\n",
       "       [198, 121],\n",
       "       [222,  32],\n",
       "       [279,  54],\n",
       "       [436, 262],\n",
       "       [436, 180],\n",
       "       [406, 218],\n",
       "       [ 19, 227],\n",
       "       [187, 295],\n",
       "       [108, 268],\n",
       "       [ 20,  82],\n",
       "       [ 14,  27],\n",
       "       [ 79,  17],\n",
       "       [314, 306],\n",
       "       [336, 265],\n",
       "       [270, 271],\n",
       "       [474,  32],\n",
       "       [400,  98],\n",
       "       [437, 132],\n",
       "       [244, 490],\n",
       "       [241, 488],\n",
       "       [308, 475],\n",
       "       [ 13, 378],\n",
       "       [120, 387],\n",
       "       [135, 383],\n",
       "       [163, 213],\n",
       "       [ 97, 162],\n",
       "       [141, 209],\n",
       "       [164, 221],\n",
       "       [115, 188],\n",
       "       [185, 183],\n",
       "       [184, 176],\n",
       "       [320, 393],\n",
       "       [298, 348],\n",
       "       [398, 383],\n",
       "       [309, 443],\n",
       "       [286, 174],\n",
       "       [324, 188]], dtype=int64)"
      ]
     },
     "execution_count": 19,
     "metadata": {},
     "output_type": "execute_result"
    }
   ],
   "source": [
    "data = np.array(sensorInformations)\n",
    "data"
   ]
  },
  {
   "cell_type": "code",
   "execution_count": 20,
   "metadata": {},
   "outputs": [
    {
     "name": "stderr",
     "output_type": "stream",
     "text": [
      "C:\\Users\\ycn\\anaconda3\\lib\\site-packages\\sklearn\\manifold\\_spectral_embedding.py:236: UserWarning: Graph is not fully connected, spectral embedding may not work as expected.\n",
      "  warnings.warn(\"Graph is not fully connected, spectral embedding\"\n",
      "C:\\Users\\ycn\\anaconda3\\lib\\site-packages\\sklearn\\cluster\\_kmeans.py:296: ConvergenceWarning: Number of distinct clusters (3) found smaller than n_clusters (14). Possibly due to duplicate points in X.\n",
      "  est = KMeans(\n"
     ]
    },
    {
     "name": "stdout",
     "output_type": "stream",
     "text": [
      "0\n"
     ]
    },
    {
     "ename": "TypeError",
     "evalue": "only integer scalar arrays can be converted to a scalar index",
     "output_type": "error",
     "traceback": [
      "\u001b[1;31m---------------------------------------------------------------------------\u001b[0m",
      "\u001b[1;31mTypeError\u001b[0m                                 Traceback (most recent call last)",
      "\u001b[1;32m<ipython-input-20-40c635b9af26>\u001b[0m in \u001b[0;36m<module>\u001b[1;34m\u001b[0m\n\u001b[0;32m      1\u001b[0m \u001b[0mdata\u001b[0m \u001b[1;33m=\u001b[0m \u001b[0mnp\u001b[0m\u001b[1;33m.\u001b[0m\u001b[0marray\u001b[0m\u001b[1;33m\u001b[0m\u001b[1;33m\u001b[0m\u001b[0m\n\u001b[1;32m----> 2\u001b[1;33m \u001b[0mcluster_coordinate\u001b[0m \u001b[1;33m=\u001b[0m \u001b[0mcluster_SPectralClustering\u001b[0m\u001b[1;33m(\u001b[0m\u001b[1;36m14\u001b[0m \u001b[1;33m,\u001b[0m \u001b[0msensorInformations\u001b[0m\u001b[1;33m)\u001b[0m\u001b[1;33m\u001b[0m\u001b[1;33m\u001b[0m\u001b[0m\n\u001b[0m",
      "\u001b[1;32m<ipython-input-16-e849307184ff>\u001b[0m in \u001b[0;36mcluster_SPectralClustering\u001b[1;34m(numberOfCluster, data)\u001b[0m\n\u001b[0;32m      7\u001b[0m     \u001b[1;32mfor\u001b[0m \u001b[0m_\u001b[0m \u001b[1;32min\u001b[0m \u001b[0mrange\u001b[0m\u001b[1;33m(\u001b[0m\u001b[0mnumberOfCluster\u001b[0m\u001b[1;33m)\u001b[0m\u001b[1;33m:\u001b[0m\u001b[1;33m\u001b[0m\u001b[1;33m\u001b[0m\u001b[0m\n\u001b[0;32m      8\u001b[0m         \u001b[0mprint\u001b[0m\u001b[1;33m(\u001b[0m\u001b[0m_\u001b[0m\u001b[1;33m)\u001b[0m\u001b[1;33m\u001b[0m\u001b[1;33m\u001b[0m\u001b[0m\n\u001b[1;32m----> 9\u001b[1;33m         \u001b[0mcentroid\u001b[0m \u001b[1;33m=\u001b[0m \u001b[0mdata\u001b[0m\u001b[1;33m[\u001b[0m\u001b[0mlabels\u001b[0m \u001b[1;33m==\u001b[0m \u001b[0m_\u001b[0m \u001b[1;33m]\u001b[0m\u001b[1;33m\u001b[0m\u001b[1;33m\u001b[0m\u001b[0m\n\u001b[0m\u001b[0;32m     10\u001b[0m         \u001b[0mcentroids_points\u001b[0m \u001b[1;33m=\u001b[0m \u001b[0mnp\u001b[0m\u001b[1;33m.\u001b[0m\u001b[0mmean\u001b[0m\u001b[1;33m(\u001b[0m\u001b[0mcentroid\u001b[0m \u001b[1;33m,\u001b[0m \u001b[0maxis\u001b[0m \u001b[1;33m=\u001b[0m \u001b[1;36m0\u001b[0m \u001b[1;33m)\u001b[0m\u001b[1;33m\u001b[0m\u001b[1;33m\u001b[0m\u001b[0m\n\u001b[0;32m     11\u001b[0m         \u001b[0mpoints\u001b[0m\u001b[1;33m.\u001b[0m\u001b[0mappend\u001b[0m\u001b[1;33m(\u001b[0m\u001b[0mcentroids_points\u001b[0m\u001b[1;33m)\u001b[0m\u001b[1;33m\u001b[0m\u001b[1;33m\u001b[0m\u001b[0m\n",
      "\u001b[1;31mTypeError\u001b[0m: only integer scalar arrays can be converted to a scalar index"
     ]
    }
   ],
   "source": [
    "data = np.array\n",
    "cluster_coordinate = cluster_SPectralClustering(14 , sensorInformations)"
   ]
  },
  {
   "cell_type": "code",
   "execution_count": null,
   "metadata": {},
   "outputs": [],
   "source": []
  }
 ],
 "metadata": {
  "kernelspec": {
   "display_name": "Python 3",
   "language": "python",
   "name": "python3"
  },
  "language_info": {
   "codemirror_mode": {
    "name": "ipython",
    "version": 3
   },
   "file_extension": ".py",
   "mimetype": "text/x-python",
   "name": "python",
   "nbconvert_exporter": "python",
   "pygments_lexer": "ipython3",
   "version": "3.8.5"
  },
  "vscode": {
   "interpreter": {
    "hash": "ae205658eccd0e4e5b2a976b2be5a750c89f2275e688345f971447903ba248df"
   }
  }
 },
 "nbformat": 4,
 "nbformat_minor": 4
}
