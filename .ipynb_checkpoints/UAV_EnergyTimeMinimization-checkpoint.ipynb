{
 "cells": [
  {
   "cell_type": "code",
   "execution_count": 51,
   "metadata": {},
   "outputs": [],
   "source": [
    "import matplotlib.pyplot as plt \n",
    "import numpy as np \n",
    "import pandas as pd \n",
    "from graphStructure import graph \n",
    "from structure import node"
   ]
  },
  {
   "cell_type": "code",
   "execution_count": 52,
   "metadata": {},
   "outputs": [],
   "source": [
    "#Read data of sensors\n",
    "sensorData = pd.read_excel('Data/Environement/K=9/SensorInformation.xls')\n",
    "sensorCoordinate = []"
   ]
  },
  {
   "cell_type": "code",
   "execution_count": 53,
   "metadata": {},
   "outputs": [],
   "source": [
    "#Sensors coordinate \n",
    "for row in sensorData.index:\n",
    "    coordinate = (sensorData['X'][row] ,sensorData['Y'][row] ,sensorData['Cluster_Index'][row])\n",
    "    sensorCoordinate.append(coordinate)\n",
    "sensorInformations = sensorCoordinate "
   ]
  },
  {
   "cell_type": "code",
   "execution_count": 54,
   "metadata": {},
   "outputs": [],
   "source": [
    "#Cluster Information \n",
    "clusterData = pd.read_excel('Data/Environement/K=9/ClustersInformations.xls')\n",
    "ClusterInformation = []\n",
    "AllClusterIndex = []"
   ]
  },
  {
   "cell_type": "code",
   "execution_count": 55,
   "metadata": {},
   "outputs": [],
   "source": [
    "#Cluster coordinate \n",
    "for row in clusterData.index:\n",
    "    coordinate = (clusterData['X'][row] ,clusterData['Y'][row] , clusterData['Cluster_index'][row])\n",
    "    ClusterInformation.append(coordinate)\n",
    "    AllClusterIndex.append(clusterData['Cluster_index'][row])\n",
    "C= AllClusterIndex[0:-1]\n",
    "#Create a graph structure \n",
    "predecessor = []\n",
    "sucessor =[]\n",
    "Nodesss = []\n",
    "for i in range(len(AllClusterIndex)):\n",
    "    predecessor = []\n",
    "    sucessor =[]\n",
    "    for j in range(len(AllClusterIndex)):\n",
    "        if i==len(AllClusterIndex)-1 and i!=j:\n",
    "            sucessor.append(j)\n",
    "        if i!=j and j != len(AllClusterIndex)-1 and i!= len(AllClusterIndex)-1 :\n",
    "            predecessor.append(j)\n",
    "            sucessor.append(j)\n",
    "    g = graph(i , predecessor , sucessor)\n",
    "    Nodesss.append(g)\n",
    "N = node(Nodesss)\n",
    "AllClusterIndex\n",
    "\n",
    "# Normlized Data of the Mission \n",
    "nomlizedMissionData = pd.read_excel(\"NormlizedData.xls\")\n",
    "missionInformationSubPath = []\n",
    "missionInformationScores =  []\n",
    "for row in nomlizedMissionData.index:\n",
    "    subPath = (nomlizedMissionData['Cluster_ID'][row] , nomlizedMissionData['Cluster_DESTINATION'][row])\n",
    "    scores  =(float(nomlizedMissionData['TIME_TRAVEL_CONSUMPTION'][row]),float(nomlizedMissionData['HOVERING_TIME'][row]) , float(nomlizedMissionData['ENERGY_HOVER'][row])  , float(nomlizedMissionData['TRAVEL_ENERGY_COST'][row]))\n",
    "    missionInformationSubPath.append(subPath)\n",
    "    missionInformationScores.append(scores)"
   ]
  },
  {
   "cell_type": "code",
   "execution_count": 56,
   "metadata": {},
   "outputs": [
    {
     "data": {
      "image/png": "[encoded data removed]",
      "text/plain": [
       "<Figure size 432x288 with 1 Axes>"
      ]
     },
     "metadata": {
      "needs_background": "light"
     },
     "output_type": "display_data"
    }
   ],
   "source": [
    "for coor in sensorInformations:\n",
    "    plt.scatter(coor[0] , coor[1] , c = 'blue')\n",
    "    plt.text(coor[0] , coor[1] , coor[2])\n",
    "for coor in ClusterInformation:\n",
    "    if coor[0] == 0 and coor[1] == 0:\n",
    "        plt.text(0 , 0 , 'Base Station')\n",
    "    plt.scatter(coor[0] , coor[1] , c = 'yellow' )\n",
    "    plt.text(coor[0] , coor[1]  , coor[2])\n",
    "plt.show()"
   ]
  },
  {
   "cell_type": "code",
   "execution_count": null,
   "metadata": {},
   "outputs": [],
   "source": []
  },
  {
   "cell_type": "code",
   "execution_count": 61,
   "metadata": {},
   "outputs": [],
   "source": [
    "# Starting with gurobi , Match subpath with there scores \n",
    "import gurobipy as gp \n",
    "from gurobipy import GRB \n",
    "\n",
    "dataDict = {}\n",
    "for cluster in range(len(missionInformationSubPath)):\n",
    "    dataDict.update({missionInformationSubPath[cluster] : missionInformationScores[cluster]})"
   ]
  },
  {
   "cell_type": "code",
   "execution_count": 62,
   "metadata": {},
   "outputs": [],
   "source": [
    "#Match subpath with there scores  \n",
    "combinations , timeTravel , hoveringTime , energyTravel , hoveringEnergy  = gp.multidict(dataDict)"
   ]
  },
  {
   "cell_type": "code",
   "execution_count": null,
   "metadata": {},
   "outputs": [],
   "source": []
  },
  {
   "cell_type": "code",
   "execution_count": 63,
   "metadata": {},
   "outputs": [],
   "source": [
    "numberOfCluster = 2"
   ]
  },
  {
   "cell_type": "code",
   "execution_count": 64,
   "metadata": {},
   "outputs": [],
   "source": [
    "# The decision variable of the subPath it's equal to 1 if the cluster i is connected with the cluster j \n",
    "#Initialization of the model \n",
    "model  = gp.Model('UAV_TimeEnergy_Minimization')"
   ]
  },
  {
   "cell_type": "code",
   "execution_count": 65,
   "metadata": {},
   "outputs": [],
   "source": [
    "# Create the decision variable for the UAV_TimeEnergy_Minimization \n",
    "# combinations contain the cluster i and the cluster j i--j or a subPath \n",
    "x = model.addVars(combinations , vtype = GRB.BINARY , name='SubPath')\n",
    "timeTravel = model.addVars(timeTravel , vtype = GRB.BINARY ,name = 'timeTravel')\n",
    "hoveringTime =  model.addVars(hoveringTime , vtype = GRB.BINARY ,name = 'hoveringTime')\n",
    "energyTravel =  model.addVars(energyTravel , vtype = GRB.BINARY ,name = 'energyTravel')\n",
    "hoveringEnergy = model.addVars(hoveringEnergy , vtype = GRB.BINARY ,name = 'hoveringEnergy')"
   ]
  },
  {
   "cell_type": "code",
   "execution_count": null,
   "metadata": {},
   "outputs": [],
   "source": []
  },
  {
   "cell_type": "code",
   "execution_count": 66,
   "metadata": {},
   "outputs": [],
   "source": [
    "# Write some constraint \n",
    "#-----------------------------------------------------\n",
    "#The startingPosition Should be the base station  (C1) --> keep  \n",
    "startingPosition = 1\n",
    "# The number  sensor in a cluster should be at least = 1 or greater  (C2) --> keep   \n",
    "# The cluster should be in the zone covered by the UAV  (C3) --> keep   \n",
    "# a visited cluster should not be revisited by the UAV (C4) --> keep \n",
    "# The sensor should have a data to communicate with uav (C5) maybe ? \n",
    "# a deadline for a sensor to send th data \n",
    "# The energy consumption should be less than  a certain value where the UAV \n",
    "# a feaseble solution should satisfy all the constraints "
   ]
  },
  {
   "cell_type": "code",
   "execution_count": 67,
   "metadata": {},
   "outputs": [],
   "source": [
    "import random \n",
    "Lambda  = random.uniform(0,1)"
   ]
  },
  {
   "cell_type": "code",
   "execution_count": 68,
   "metadata": {},
   "outputs": [
    {
     "name": "stdout",
     "output_type": "stream",
     "text": [
      "λ :  0.70324044761571 |1-λ 0.29675955238428997\n"
     ]
    }
   ],
   "source": [
    "print(\"λ : \",Lambda , '|1-λ' , 1-Lambda)"
   ]
  },
  {
   "cell_type": "code",
   "execution_count": 69,
   "metadata": {},
   "outputs": [],
   "source": [
    "listOfCluster = []\n",
    "clusterIndex=0 \n",
    "for element in range(len(x)): \n",
    "    listOfCluster.append(clusterIndex)\n",
    "    clusterIndex+=1\n",
    "visitedCluster = {3}"
   ]
  },
  {
   "cell_type": "code",
   "execution_count": 70,
   "metadata": {},
   "outputs": [],
   "source": [
    "#Define the objective function\n",
    "import random \n",
    "from gurobipy import quicksum \n",
    "λ1  = random.uniform(0,1)\n",
    "λ2  = 1 - λ1  \n",
    "model.NumObj = 2 \n",
    "model.modelSense = GRB.MINIMIZE\n",
    "model.setObjectiveN(quicksum(timeTravel[i,j] + hoveringTime[i,j] for  i,j in x) , index=0 , weight = λ1)\n",
    "model.setObjectiveN(quicksum(energyTravel[i,j] + hoveringEnergy[i,j] for i,j in x) , index=1 , weight = λ2 )"
   ]
  },
  {
   "cell_type": "code",
   "execution_count": 42,
   "metadata": {},
   "outputs": [
    {
     "ename": "AttributeError",
     "evalue": "'node' object has no attribute 'getpredesseor'",
     "output_type": "error",
     "traceback": [
      "\u001b[1;31m---------------------------------------------------------------------------\u001b[0m",
      "\u001b[1;31mAttributeError\u001b[0m                            Traceback (most recent call last)",
      "\u001b[1;32m<ipython-input-42-c797a8f1702b>\u001b[0m in \u001b[0;36m<module>\u001b[1;34m\u001b[0m\n\u001b[0;32m      1\u001b[0m \u001b[0mC\u001b[0m \u001b[1;33m=\u001b[0m \u001b[1;33m[\u001b[0m\u001b[0mi\u001b[0m \u001b[1;32mfor\u001b[0m \u001b[0mi\u001b[0m \u001b[1;32min\u001b[0m \u001b[0mrange\u001b[0m\u001b[1;33m(\u001b[0m\u001b[1;36m0\u001b[0m \u001b[1;33m,\u001b[0m \u001b[0mnumberOfCluster\u001b[0m\u001b[1;33m-\u001b[0m\u001b[1;36m1\u001b[0m\u001b[1;33m)\u001b[0m\u001b[1;33m]\u001b[0m\u001b[1;33m\u001b[0m\u001b[1;33m\u001b[0m\u001b[0m\n\u001b[0;32m      2\u001b[0m \u001b[0mC\u001b[0m\u001b[1;33m\u001b[0m\u001b[1;33m\u001b[0m\u001b[0m\n\u001b[1;32m----> 3\u001b[1;33m \u001b[0mN\u001b[0m\u001b[1;33m.\u001b[0m\u001b[0mgetpredesseor\u001b[0m\u001b[1;33m(\u001b[0m\u001b[1;36m5\u001b[0m\u001b[1;33m)\u001b[0m\u001b[1;33m\u001b[0m\u001b[1;33m\u001b[0m\u001b[0m\n\u001b[0m",
      "\u001b[1;31mAttributeError\u001b[0m: 'node' object has no attribute 'getpredesseor'"
     ]
    }
   ],
   "source": []
  },
  {
   "cell_type": "code",
   "execution_count": 43,
   "metadata": {},
   "outputs": [],
   "source": [
    "#Constraint leave the starting position once \n",
    "model.addConstr( quicksum(x[j,startingPosition] for j in N.getpredecessors(startingPosition)) - quicksum(x[startingPosition,j] for j in N.getsucessors(startingPosition)) == -1 )\n",
    "# Incoming edges + outcoming edges = 0 \n",
    "model.addConstrs(quicksum(x[i,j] for j in N.getsucessors(i)) - quicksum(x[i,j] for j in N.getsucessors(i)) == 0 for i in C )\n",
    "#enter  each cluster once \n",
    "model.addConstrs(quicksum(x[i,j] for i in N.getpredecessors(j)) == 1 for j in C)\n",
    "# leave each cluster once  \n",
    "model.addConstrs(quicksum(x[i,j] for j in N.getsucessors(i)) ==1 for i in C)\n",
    "#model.addConstr(quicksum(x[i,j] for i,j in x - x[j,i])==1)\n",
    "model.update()"
   ]
  },
  {
   "cell_type": "code",
   "execution_count": null,
   "metadata": {},
   "outputs": [],
   "source": []
  },
  {
   "cell_type": "code",
   "execution_count": 44,
   "metadata": {},
   "outputs": [
    {
     "name": "stdout",
     "output_type": "stream",
     "text": [
      "Gurobi Optimizer version 9.5.2 build v9.5.2rc0 (win64)\n",
      "Thread count: 6 physical cores, 12 logical processors, using up to 12 threads\n",
      "Optimize a model with 16 rows, 125 columns and 45 nonzeros\n",
      "Model fingerprint: 0xde8cfb54\n",
      "Variable types: 0 continuous, 125 integer (125 binary)\n",
      "Coefficient statistics:\n",
      "  Matrix range     [1e+00, 1e+00]\n",
      "  Objective range  [1e+00, 1e+00]\n",
      "  Bounds range     [1e+00, 1e+00]\n",
      "  RHS range        [1e+00, 1e+00]\n",
      "\n",
      "---------------------------------------------------------------------------\n",
      "Multi-objectives: starting optimization with 2 objectives (1 combined) ...\n",
      "---------------------------------------------------------------------------\n",
      "---------------------------------------------------------------------------\n",
      "\n",
      "Multi-objectives: optimize objective 1 (weighted) ...\n",
      "---------------------------------------------------------------------------\n",
      "\n",
      "Optimize a model with 16 rows, 125 columns and 45 nonzeros\n",
      "Model fingerprint: 0x0a35afd9\n",
      "Variable types: 0 continuous, 125 integer (125 binary)\n",
      "Coefficient statistics:\n",
      "  Matrix range     [1e+00, 1e+00]\n",
      "  Objective range  [3e-01, 7e-01]\n",
      "  Bounds range     [1e+00, 1e+00]\n",
      "  RHS range        [1e+00, 1e+00]\n",
      "Found heuristic solution: objective 0.0000000\n",
      "\n",
      "Explored 0 nodes (0 simplex iterations) in 0.02 seconds (0.00 work units)\n",
      "Thread count was 1 (of 12 available processors)\n",
      "\n",
      "Solution count 1: 0 \n",
      "\n",
      "Optimal solution found (tolerance 1.00e-04)\n",
      "Best objective 0.000000000000e+00, best bound 0.000000000000e+00, gap 0.0000%\n",
      "\n",
      "---------------------------------------------------------------------------\n",
      "Multi-objectives: solved in 0.02 seconds (0.00 work units), solution count 1\n",
      "\n"
     ]
    }
   ],
   "source": [
    "model.optimize()"
   ]
  },
  {
   "cell_type": "code",
   "execution_count": 45,
   "metadata": {},
   "outputs": [],
   "source": [
    "active_arcs = [ i for i in x if x[i].x>0.99]"
   ]
  },
  {
   "cell_type": "code",
   "execution_count": 46,
   "metadata": {},
   "outputs": [
    {
     "data": {
      "image/png": "[encoded data removed]",
      "text/plain": [
       "<Figure size 432x288 with 1 Axes>"
      ]
     },
     "metadata": {
      "needs_background": "light"
     },
     "output_type": "display_data"
    },
    {
     "name": "stdout",
     "output_type": "stream",
     "text": [
      "[(0, 1), (1, 2), (2, 4), (3, 0), (4, 3), (5, 0)]\n"
     ]
    },
    {
     "data": {
      "text/plain": [
       "<Figure size 432x288 with 0 Axes>"
      ]
     },
     "metadata": {},
     "output_type": "display_data"
    }
   ],
   "source": [
    "\n",
    "def getCoordinateFromClusterIndex(index):\n",
    "    for coor in ClusterInformation:\n",
    "        if coor[2] == index:\n",
    "            return [coor[0] , coor[1]]\n",
    "    \n",
    "active_arcs \n",
    "for coor in sensorInformations:\n",
    "    plt.scatter(coor[0] , coor[1] , c = 'blue')\n",
    "    plt.text(coor[0] , coor[1] , coor[2])\n",
    "for coor in ClusterInformation:\n",
    "    if coor[0] == 0 and coor[1] == 0:\n",
    "        plt.text(0 , 0 , 'Base Station')\n",
    "    plt.scatter(coor[0] , coor[1] , c = 'yellow' )\n",
    "    plt.text(coor[0] , coor[1]  , coor[2])\n",
    "for subPath in active_arcs:\n",
    "    cor1 = getCoordinateFromClusterIndex(subPath[0])\n",
    "    cor2 = getCoordinateFromClusterIndex(subPath[1])\n",
    "    X = [cor1[0] , cor2[0]] \n",
    "    Y = [cor1[1] , cor2[1]]\n",
    "    plt.plot(X , Y)\n",
    "plt.show()\n",
    "#Print the subPath\n",
    "plt.show()\n",
    "print(active_arcs)\n",
    "plt.savefig('solverPath.png')"
   ]
  },
  {
   "cell_type": "code",
   "execution_count": 47,
   "metadata": {},
   "outputs": [
    {
     "name": "stdout",
     "output_type": "stream",
     "text": [
      "((0, 1), (0, 2), (0, 3), (0, 4), (1, 0), (1, 2), (1, 3), (1, 4), (2, 0), (2, 1), (2, 3), (2, 4), (3, 0), (3, 1), (3, 2), (3, 4), (4, 0), (4, 1), (4, 2), (4, 3), (5, 0), (5, 1), (5, 2), (5, 3), (5, 4))\n"
     ]
    }
   ],
   "source": [
    "edges = []\n",
    "for edge in missionInformationSubPath:\n",
    "    edges.append(edge)\n",
    "edges = tuple(edges)\n",
    "print(edges)"
   ]
  },
  {
   "cell_type": "code",
   "execution_count": 48,
   "metadata": {},
   "outputs": [
    {
     "name": "stdout",
     "output_type": "stream",
     "text": [
      "(0, 1, 2, 3, 4, 5)\n"
     ]
    }
   ],
   "source": [
    "allNodes = [i for i in range(0 , numberOfCluster)]\n",
    "allNodes = tuple(allNodes)\n",
    "print(allNodes)"
   ]
  },
  {
   "cell_type": "code",
   "execution_count": 49,
   "metadata": {},
   "outputs": [],
   "source": [
    "model.update()"
   ]
  },
  {
   "cell_type": "code",
   "execution_count": 50,
   "metadata": {},
   "outputs": [
    {
     "name": "stdout",
     "output_type": "stream",
     "text": [
      "Gurobi Optimizer version 9.5.2 build v9.5.2rc0 (win64)\n",
      "Thread count: 6 physical cores, 12 logical processors, using up to 12 threads\n",
      "Optimize a model with 41 rows, 131 columns and 120 nonzeros\n",
      "Model fingerprint: 0xa55808da\n",
      "Variable types: 6 continuous, 125 integer (125 binary)\n",
      "Coefficient statistics:\n",
      "  Matrix range     [1e+00, 6e+00]\n",
      "  Objective range  [1e+00, 1e+00]\n",
      "  Bounds range     [1e+00, 1e+00]\n",
      "  RHS range        [1e+00, 5e+00]\n",
      "\n",
      "---------------------------------------------------------------------------\n",
      "Multi-objectives: starting optimization with 2 objectives (1 combined) ...\n",
      "---------------------------------------------------------------------------\n",
      "---------------------------------------------------------------------------\n",
      "\n",
      "Multi-objectives: optimize objective 1 (weighted) ...\n",
      "---------------------------------------------------------------------------\n",
      "\n",
      "Optimize a model with 41 rows, 131 columns and 120 nonzeros\n",
      "Model fingerprint: 0x967ceea4\n",
      "Variable types: 6 continuous, 125 integer (125 binary)\n",
      "Coefficient statistics:\n",
      "  Matrix range     [1e+00, 6e+00]\n",
      "  Objective range  [3e-01, 7e-01]\n",
      "  Bounds range     [1e+00, 1e+00]\n",
      "  RHS range        [1e+00, 5e+00]\n",
      "Presolve removed 5 rows and 101 columns\n",
      "Presolve time: 0.01s\n",
      "Presolved: 36 rows, 30 columns, 115 nonzeros\n",
      "Variable types: 5 continuous, 25 integer (25 binary)\n",
      "\n",
      "Root relaxation: objective 0.000000e+00, 21 iterations, 0.00 seconds (0.00 work units)\n",
      "\n",
      "    Nodes    |    Current Node    |     Objective Bounds      |     Work\n",
      " Expl Unexpl |  Obj  Depth IntInf | Incumbent    BestBd   Gap | It/Node Time\n",
      "\n",
      "     0     0    0.00000    0    4          -    0.00000      -     -    0s\n",
      "     0     0    0.00000    0    6          -    0.00000      -     -    0s\n",
      "     0     0    0.00000    0    9          -    0.00000      -     -    0s\n",
      "     0     0    0.00000    0    9          -    0.00000      -     -    0s\n",
      "     0     0    0.00000    0    9          -    0.00000      -     -    0s\n",
      "     0     1    0.00000    0    6          -    0.00000      -     -    0s\n",
      "\n",
      "Explored 2 nodes (95 simplex iterations) in 0.06 seconds (0.00 work units)\n",
      "Thread count was 12 (of 12 available processors)\n",
      "\n",
      "Solution count 0\n",
      "\n",
      "Model is infeasible\n",
      "Best objective -, best bound -, gap -\n",
      "\n",
      "---------------------------------------------------------------------------\n",
      "Multi-objectives: solved in 0.07 seconds (0.00 work units)\n",
      "Model is infeasible\n",
      "\n"
     ]
    }
   ],
   "source": [
    "# Add the Miller-Tucker-Zemlin variables and constraints and resolve \n",
    "u = model.addVars(allNodes)\n",
    "model.update()\n",
    "# (i , j) in tour => u[j] >= u[i] +1 \n",
    "#EX : assume start at node 0 \n",
    "model.addConstrs(u[i] - u[j] + (numberOfCluster*x[i , j]) <= numberOfCluster-1 for i,j in edges if j!= startingPosition)\n",
    "model.optimize()"
   ]
  },
  {
   "cell_type": "code",
   "execution_count": 55,
   "metadata": {},
   "outputs": [],
   "source": [
    "active_arcs = [ i for i in x if x[i].x>0.99]"
   ]
  },
  {
   "cell_type": "code",
   "execution_count": 56,
   "metadata": {},
   "outputs": [
    {
     "data": {
      "text/plain": [
       "[(13, 7)]"
      ]
     },
     "execution_count": 56,
     "metadata": {},
     "output_type": "execute_result"
    }
   ],
   "source": [
    "active_arcs"
   ]
  },
  {
   "cell_type": "code",
   "execution_count": null,
   "metadata": {},
   "outputs": [],
   "source": []
  }
 ],
 "metadata": {
  "kernelspec": {
   "display_name": "Python 3",
   "language": "python",
   "name": "python3"
  },
  "language_info": {
   "codemirror_mode": {
    "name": "ipython",
    "version": 3
   },
   "file_extension": ".py",
   "mimetype": "text/x-python",
   "name": "python",
   "nbconvert_exporter": "python",
   "pygments_lexer": "ipython3",
   "version": "3.8.5"
  }
 },
 "nbformat": 4,
 "nbformat_minor": 4
}
